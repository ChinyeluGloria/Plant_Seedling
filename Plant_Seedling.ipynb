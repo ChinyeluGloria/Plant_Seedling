{
  "cells": [
    {
      "cell_type": "code",
      "execution_count": 1,
      "metadata": {
        "id": "LlV_4D9y9jJV"
      },
      "outputs": [],
      "source": [
        "from google.colab import drive"
      ]
    },
    {
      "cell_type": "markdown",
      "metadata": {
        "id": "aKPbnH_NRAp-"
      },
      "source": []
    },
    {
      "cell_type": "code",
      "execution_count": 2,
      "metadata": {
        "colab": {
          "base_uri": "https://localhost:8080/"
        },
        "id": "PtwP43JB-ALF",
        "outputId": "96083185-6da9-4241-b4a8-ba704ffea86d"
      },
      "outputs": [
        {
          "output_type": "stream",
          "name": "stdout",
          "text": [
            "Drive already mounted at /content/drive; to attempt to forcibly remount, call drive.mount(\"/content/drive\", force_remount=True).\n"
          ]
        }
      ],
      "source": [
        "drive.mount(\"/content/drive\")"
      ]
    },
    {
      "cell_type": "markdown",
      "metadata": {
        "id": "pRxoP9LyB8aC"
      },
      "source": [
        "# The objective of this project is to build a Convolutional Neural Network model that would classify the plant seedlings into their respective 12 categories. It is expected that the model/classifier will correctly identify the plant's species from the images provided. The model is expected to build 12 probabilities where the highest probability will be used for the each classification.\n",
        "\n"
      ]
    },
    {
      "cell_type": "markdown",
      "metadata": {
        "id": "vulJe0Y6AsQA"
      },
      "source": [
        "### Import the necessary libraries will be used for image classification"
      ]
    },
    {
      "cell_type": "code",
      "execution_count": 3,
      "metadata": {
        "id": "qfzu-BjB-K5N"
      },
      "outputs": [],
      "source": [
        "import pandas as pd\n",
        "import numpy as np\n",
        "import matplotlib.pyplot as plt\n",
        "import seaborn as sns\n",
        "\n",
        "import tensorflow as tf\n",
        "import keras\n",
        "\n",
        "# Keras Sequential Model\n",
        "from  tensorflow.keras.models import  Sequential\n",
        "\n",
        "#import layers and optimizers\n",
        "from tensorflow.keras.layers import Dense, Dropout, Flatten, Conv2D, MaxPool2D, BatchNormalization, Activation, LeakyReLU\n",
        "from tensorflow.keras.optimizers import Adam\n",
        "\n",
        "#import LabelEncoder to help convert the categorical labels to numeric\n",
        "from sklearn.preprocessing import LabelEncoder\n",
        "\n",
        "#import utility function for one-hot encoding of the target variables\n",
        "from keras.utils.np_utils import to_categorical\n",
        "#import the function to split the data\n",
        "from sklearn.model_selection import train_test_split\n",
        "\n",
        "#import random for for seed setting\n",
        "import random\n",
        "\n",
        "# library to clear model's history\n",
        "from tensorflow.keras import backend\n",
        "\n",
        "#library to stop the model when theres no imptovement in accuracy\n",
        "from tensorflow.keras.callbacks import EarlyStopping"
      ]
    },
    {
      "cell_type": "code",
      "execution_count": 4,
      "metadata": {
        "id": "Pe1TX7oq_fsJ"
      },
      "outputs": [],
      "source": [
        "#load the images and their labels\n",
        "\n",
        "l_path = \"/content/drive/MyDrive/Ailead_CNN_Assignment/Labels.csv\"\n",
        "im_path = \"/content/drive/MyDrive/Ailead_CNN_Assignment/images.npy\"\n",
        "images = np.load(im_path)\n",
        "labels = pd.read_csv(l_path)"
      ]
    },
    {
      "cell_type": "code",
      "execution_count": 5,
      "metadata": {
        "colab": {
          "base_uri": "https://localhost:8080/"
        },
        "id": "YRtiLoDGU6E6",
        "outputId": "fa771ecb-cd2e-4f9c-e219-2090ea866445"
      },
      "outputs": [
        {
          "output_type": "execute_result",
          "data": {
            "text/plain": [
              "(4750, 128, 128, 3)"
            ]
          },
          "metadata": {},
          "execution_count": 5
        }
      ],
      "source": [
        "images.shape #check the shape of the images"
      ]
    },
    {
      "cell_type": "code",
      "execution_count": 6,
      "metadata": {
        "colab": {
          "base_uri": "https://localhost:8080/"
        },
        "id": "dBtOep1343Zc",
        "outputId": "c9a7231b-76e2-4364-df8c-be31cb857988"
      },
      "outputs": [
        {
          "output_type": "execute_result",
          "data": {
            "text/plain": [
              "numpy.ndarray"
            ]
          },
          "metadata": {},
          "execution_count": 6
        }
      ],
      "source": [
        "type(images)"
      ]
    },
    {
      "cell_type": "code",
      "execution_count": 7,
      "metadata": {
        "colab": {
          "base_uri": "https://localhost:8080/"
        },
        "id": "PI19d8685_BV",
        "outputId": "f371e74a-ae50-446e-8b3e-180ec39136df"
      },
      "outputs": [
        {
          "output_type": "execute_result",
          "data": {
            "text/plain": [
              "array([[[ 32,  34,  48],\n",
              "        [ 28,  28,  43],\n",
              "        [ 29,  32,  50],\n",
              "        ...,\n",
              "        [ 38,  49,  66],\n",
              "        [ 40,  53,  68],\n",
              "        [ 37,  50,  65]],\n",
              "\n",
              "       [[ 23,  23,  37],\n",
              "        [ 27,  26,  38],\n",
              "        [ 24,  33,  48],\n",
              "        ...,\n",
              "        [ 36,  50,  65],\n",
              "        [ 39,  54,  67],\n",
              "        [ 35,  49,  63]],\n",
              "\n",
              "       [[ 25,  24,  37],\n",
              "        [ 24,  23,  36],\n",
              "        [ 17,  28,  46],\n",
              "        ...,\n",
              "        [ 35,  49,  65],\n",
              "        [ 35,  50,  64],\n",
              "        [ 33,  48,  64]],\n",
              "\n",
              "       ...,\n",
              "\n",
              "       [[ 57,  80, 100],\n",
              "        [ 56,  79, 101],\n",
              "        [ 53,  77, 100],\n",
              "        ...,\n",
              "        [ 55,  76,  92],\n",
              "        [ 55,  78,  96],\n",
              "        [ 59,  81, 100]],\n",
              "\n",
              "       [[ 54,  77,  97],\n",
              "        [ 59,  81, 103],\n",
              "        [ 52,  76,  99],\n",
              "        ...,\n",
              "        [ 58,  80,  95],\n",
              "        [ 59,  83,  99],\n",
              "        [ 61,  84, 103]],\n",
              "\n",
              "       [[ 58,  81, 102],\n",
              "        [ 59,  81, 102],\n",
              "        [ 62,  85, 106],\n",
              "        ...,\n",
              "        [ 56,  79,  93],\n",
              "        [ 55,  80,  97],\n",
              "        [ 56,  80, 100]]], dtype=uint8)"
            ]
          },
          "metadata": {},
          "execution_count": 7
        }
      ],
      "source": [
        "images[5]"
      ]
    },
    {
      "cell_type": "markdown",
      "metadata": {
        "id": "drXh7tnK-Wh2"
      },
      "source": [
        "The data is 4 dimensional.\n",
        "It contains 4750 images with an image dimension 128 x 128 ( ie 128 pixels along the row and height of the images respectively) and uses the RGB color dimension channels (which is the number channels within the images; red, green and blue). The data is also stored as an np array data type and will need to be normalized."
      ]
    },
    {
      "cell_type": "code",
      "execution_count": 8,
      "metadata": {
        "colab": {
          "base_uri": "https://localhost:8080/"
        },
        "id": "nI4DSsTMyJ63",
        "outputId": "55959097-5061-4763-cfac-6d9bd5d78b79"
      },
      "outputs": [
        {
          "output_type": "execute_result",
          "data": {
            "text/plain": [
              "(4750, 1)"
            ]
          },
          "metadata": {},
          "execution_count": 8
        }
      ],
      "source": [
        "labels.shape #check the shape of the labels"
      ]
    },
    {
      "cell_type": "code",
      "execution_count": 9,
      "metadata": {
        "colab": {
          "base_uri": "https://localhost:8080/",
          "height": 424
        },
        "id": "mkqWEhp3B_ZE",
        "outputId": "edf5f0fa-acba-486e-af3e-f15fd1accba0"
      },
      "outputs": [
        {
          "output_type": "execute_result",
          "data": {
            "text/plain": [
              "                          Label\n",
              "0     Small-flowered Cranesbill\n",
              "1     Small-flowered Cranesbill\n",
              "2     Small-flowered Cranesbill\n",
              "3     Small-flowered Cranesbill\n",
              "4     Small-flowered Cranesbill\n",
              "...                         ...\n",
              "4745           Loose Silky-bent\n",
              "4746           Loose Silky-bent\n",
              "4747           Loose Silky-bent\n",
              "4748           Loose Silky-bent\n",
              "4749           Loose Silky-bent\n",
              "\n",
              "[4750 rows x 1 columns]"
            ],
            "text/html": [
              "\n",
              "  <div id=\"df-ab79234a-0b58-42ee-854a-13ffcf3bc85f\">\n",
              "    <div class=\"colab-df-container\">\n",
              "      <div>\n",
              "<style scoped>\n",
              "    .dataframe tbody tr th:only-of-type {\n",
              "        vertical-align: middle;\n",
              "    }\n",
              "\n",
              "    .dataframe tbody tr th {\n",
              "        vertical-align: top;\n",
              "    }\n",
              "\n",
              "    .dataframe thead th {\n",
              "        text-align: right;\n",
              "    }\n",
              "</style>\n",
              "<table border=\"1\" class=\"dataframe\">\n",
              "  <thead>\n",
              "    <tr style=\"text-align: right;\">\n",
              "      <th></th>\n",
              "      <th>Label</th>\n",
              "    </tr>\n",
              "  </thead>\n",
              "  <tbody>\n",
              "    <tr>\n",
              "      <th>0</th>\n",
              "      <td>Small-flowered Cranesbill</td>\n",
              "    </tr>\n",
              "    <tr>\n",
              "      <th>1</th>\n",
              "      <td>Small-flowered Cranesbill</td>\n",
              "    </tr>\n",
              "    <tr>\n",
              "      <th>2</th>\n",
              "      <td>Small-flowered Cranesbill</td>\n",
              "    </tr>\n",
              "    <tr>\n",
              "      <th>3</th>\n",
              "      <td>Small-flowered Cranesbill</td>\n",
              "    </tr>\n",
              "    <tr>\n",
              "      <th>4</th>\n",
              "      <td>Small-flowered Cranesbill</td>\n",
              "    </tr>\n",
              "    <tr>\n",
              "      <th>...</th>\n",
              "      <td>...</td>\n",
              "    </tr>\n",
              "    <tr>\n",
              "      <th>4745</th>\n",
              "      <td>Loose Silky-bent</td>\n",
              "    </tr>\n",
              "    <tr>\n",
              "      <th>4746</th>\n",
              "      <td>Loose Silky-bent</td>\n",
              "    </tr>\n",
              "    <tr>\n",
              "      <th>4747</th>\n",
              "      <td>Loose Silky-bent</td>\n",
              "    </tr>\n",
              "    <tr>\n",
              "      <th>4748</th>\n",
              "      <td>Loose Silky-bent</td>\n",
              "    </tr>\n",
              "    <tr>\n",
              "      <th>4749</th>\n",
              "      <td>Loose Silky-bent</td>\n",
              "    </tr>\n",
              "  </tbody>\n",
              "</table>\n",
              "<p>4750 rows × 1 columns</p>\n",
              "</div>\n",
              "      <button class=\"colab-df-convert\" onclick=\"convertToInteractive('df-ab79234a-0b58-42ee-854a-13ffcf3bc85f')\"\n",
              "              title=\"Convert this dataframe to an interactive table.\"\n",
              "              style=\"display:none;\">\n",
              "        \n",
              "  <svg xmlns=\"http://www.w3.org/2000/svg\" height=\"24px\"viewBox=\"0 0 24 24\"\n",
              "       width=\"24px\">\n",
              "    <path d=\"M0 0h24v24H0V0z\" fill=\"none\"/>\n",
              "    <path d=\"M18.56 5.44l.94 2.06.94-2.06 2.06-.94-2.06-.94-.94-2.06-.94 2.06-2.06.94zm-11 1L8.5 8.5l.94-2.06 2.06-.94-2.06-.94L8.5 2.5l-.94 2.06-2.06.94zm10 10l.94 2.06.94-2.06 2.06-.94-2.06-.94-.94-2.06-.94 2.06-2.06.94z\"/><path d=\"M17.41 7.96l-1.37-1.37c-.4-.4-.92-.59-1.43-.59-.52 0-1.04.2-1.43.59L10.3 9.45l-7.72 7.72c-.78.78-.78 2.05 0 2.83L4 21.41c.39.39.9.59 1.41.59.51 0 1.02-.2 1.41-.59l7.78-7.78 2.81-2.81c.8-.78.8-2.07 0-2.86zM5.41 20L4 18.59l7.72-7.72 1.47 1.35L5.41 20z\"/>\n",
              "  </svg>\n",
              "      </button>\n",
              "      \n",
              "  <style>\n",
              "    .colab-df-container {\n",
              "      display:flex;\n",
              "      flex-wrap:wrap;\n",
              "      gap: 12px;\n",
              "    }\n",
              "\n",
              "    .colab-df-convert {\n",
              "      background-color: #E8F0FE;\n",
              "      border: none;\n",
              "      border-radius: 50%;\n",
              "      cursor: pointer;\n",
              "      display: none;\n",
              "      fill: #1967D2;\n",
              "      height: 32px;\n",
              "      padding: 0 0 0 0;\n",
              "      width: 32px;\n",
              "    }\n",
              "\n",
              "    .colab-df-convert:hover {\n",
              "      background-color: #E2EBFA;\n",
              "      box-shadow: 0px 1px 2px rgba(60, 64, 67, 0.3), 0px 1px 3px 1px rgba(60, 64, 67, 0.15);\n",
              "      fill: #174EA6;\n",
              "    }\n",
              "\n",
              "    [theme=dark] .colab-df-convert {\n",
              "      background-color: #3B4455;\n",
              "      fill: #D2E3FC;\n",
              "    }\n",
              "\n",
              "    [theme=dark] .colab-df-convert:hover {\n",
              "      background-color: #434B5C;\n",
              "      box-shadow: 0px 1px 3px 1px rgba(0, 0, 0, 0.15);\n",
              "      filter: drop-shadow(0px 1px 2px rgba(0, 0, 0, 0.3));\n",
              "      fill: #FFFFFF;\n",
              "    }\n",
              "  </style>\n",
              "\n",
              "      <script>\n",
              "        const buttonEl =\n",
              "          document.querySelector('#df-ab79234a-0b58-42ee-854a-13ffcf3bc85f button.colab-df-convert');\n",
              "        buttonEl.style.display =\n",
              "          google.colab.kernel.accessAllowed ? 'block' : 'none';\n",
              "\n",
              "        async function convertToInteractive(key) {\n",
              "          const element = document.querySelector('#df-ab79234a-0b58-42ee-854a-13ffcf3bc85f');\n",
              "          const dataTable =\n",
              "            await google.colab.kernel.invokeFunction('convertToInteractive',\n",
              "                                                     [key], {});\n",
              "          if (!dataTable) return;\n",
              "\n",
              "          const docLinkHtml = 'Like what you see? Visit the ' +\n",
              "            '<a target=\"_blank\" href=https://colab.research.google.com/notebooks/data_table.ipynb>data table notebook</a>'\n",
              "            + ' to learn more about interactive tables.';\n",
              "          element.innerHTML = '';\n",
              "          dataTable['output_type'] = 'display_data';\n",
              "          await google.colab.output.renderOutput(dataTable, element);\n",
              "          const docLink = document.createElement('div');\n",
              "          docLink.innerHTML = docLinkHtml;\n",
              "          element.appendChild(docLink);\n",
              "        }\n",
              "      </script>\n",
              "    </div>\n",
              "  </div>\n",
              "  "
            ]
          },
          "metadata": {},
          "execution_count": 9
        }
      ],
      "source": [
        "#just a random view of the labels\n",
        "labels"
      ]
    },
    {
      "cell_type": "code",
      "execution_count": 10,
      "metadata": {
        "colab": {
          "base_uri": "https://localhost:8080/"
        },
        "id": "3eYpQIhB-9gL",
        "outputId": "44301cd8-348c-4ebc-92f8-46d19147bd13"
      },
      "outputs": [
        {
          "output_type": "execute_result",
          "data": {
            "text/plain": [
              "pandas.core.frame.DataFrame"
            ]
          },
          "metadata": {},
          "execution_count": 10
        }
      ],
      "source": [
        "type(labels)"
      ]
    },
    {
      "cell_type": "code",
      "execution_count": 11,
      "metadata": {
        "colab": {
          "base_uri": "https://localhost:8080/"
        },
        "id": "ekaKSfkjOGvo",
        "outputId": "cc89e0ad-2938-47e8-ca20-23e6811bb011"
      },
      "outputs": [
        {
          "output_type": "execute_result",
          "data": {
            "text/plain": [
              "array(['Small-flowered Cranesbill', 'Fat Hen', 'Shepherds Purse',\n",
              "       'Common wheat', 'Common Chickweed', 'Charlock', 'Cleavers',\n",
              "       'Scentless Mayweed', 'Sugar beet', 'Maize', 'Black-grass',\n",
              "       'Loose Silky-bent'], dtype=object)"
            ]
          },
          "metadata": {},
          "execution_count": 11
        }
      ],
      "source": [
        "#check for the unique labels/classes\n",
        "labels.Label.unique()"
      ]
    },
    {
      "cell_type": "code",
      "execution_count": 12,
      "metadata": {
        "colab": {
          "base_uri": "https://localhost:8080/"
        },
        "id": "WnHqveiMOlLC",
        "outputId": "cdb9d712-dfa9-4ba8-a132-b063d058c3f5"
      },
      "outputs": [
        {
          "output_type": "execute_result",
          "data": {
            "text/plain": [
              "12"
            ]
          },
          "metadata": {},
          "execution_count": 12
        }
      ],
      "source": [
        "# check for the number of labels or classes in the data\n",
        "labels.Label.nunique()"
      ]
    },
    {
      "cell_type": "code",
      "execution_count": 13,
      "metadata": {
        "colab": {
          "base_uri": "https://localhost:8080/"
        },
        "id": "2ZY3IDHT2FPj",
        "outputId": "383f6b9b-e99c-479b-e341-59582f89b91f"
      },
      "outputs": [
        {
          "output_type": "execute_result",
          "data": {
            "text/plain": [
              "0"
            ]
          },
          "metadata": {},
          "execution_count": 13
        }
      ],
      "source": [
        "labels.Label.isna().sum() # there are no empty row"
      ]
    },
    {
      "cell_type": "code",
      "execution_count": 14,
      "metadata": {
        "colab": {
          "base_uri": "https://localhost:8080/"
        },
        "id": "0il-679nyU6f",
        "outputId": "694e81f6-91ec-401e-aeab-933ea8cb566f"
      },
      "outputs": [
        {
          "output_type": "execute_result",
          "data": {
            "text/plain": [
              "Label                    \n",
              "Loose Silky-bent             654\n",
              "Common Chickweed             611\n",
              "Scentless Mayweed            516\n",
              "Small-flowered Cranesbill    496\n",
              "Fat Hen                      475\n",
              "Charlock                     390\n",
              "Sugar beet                   385\n",
              "Cleavers                     287\n",
              "Black-grass                  263\n",
              "Shepherds Purse              231\n",
              "Common wheat                 221\n",
              "Maize                        221\n",
              "dtype: int64"
            ]
          },
          "metadata": {},
          "execution_count": 14
        }
      ],
      "source": [
        "  # we view the labels to check for class imbalance\n",
        "\n",
        "labels.value_counts()"
      ]
    },
    {
      "cell_type": "markdown",
      "metadata": {
        "id": "FL1nykzR5HCK"
      },
      "source": [
        "The data has 12 classes and has some data balance which will be addressed later"
      ]
    },
    {
      "cell_type": "code",
      "execution_count": 15,
      "metadata": {
        "colab": {
          "base_uri": "https://localhost:8080/",
          "height": 285
        },
        "id": "qUhrU6JY_P75",
        "outputId": "c70101b6-61f6-4e3a-c418-4d84773ca939"
      },
      "outputs": [
        {
          "output_type": "execute_result",
          "data": {
            "text/plain": [
              "<function matplotlib.pyplot.show(*args, **kw)>"
            ]
          },
          "metadata": {},
          "execution_count": 15
        },
        {
          "output_type": "display_data",
          "data": {
            "text/plain": [
              "<Figure size 432x288 with 1 Axes>"
            ],
            "image/png": "[encoded data removed]"
          },
          "metadata": {
            "needs_background": "light"
          }
        }
      ],
      "source": [
        "# we randomly view the 4th image\n",
        "plt.imshow(images[3])\n",
        "plt.show"
      ]
    },
    {
      "cell_type": "code",
      "execution_count": 16,
      "metadata": {
        "colab": {
          "base_uri": "https://localhost:8080/"
        },
        "id": "xZikWqdT_vw8",
        "outputId": "841a64e6-4bfd-4cad-df57-866773811ab3"
      },
      "outputs": [
        {
          "output_type": "execute_result",
          "data": {
            "text/plain": [
              "Label    Small-flowered Cranesbill\n",
              "Name: 3, dtype: object"
            ]
          },
          "metadata": {},
          "execution_count": 16
        }
      ],
      "source": [
        "labels.iloc[3] # check the label for the above image"
      ]
    },
    {
      "cell_type": "code",
      "execution_count": 17,
      "metadata": {
        "id": "3_iZHswzjWv1"
      },
      "outputs": [],
      "source": [
        "num_classes = 12\n",
        "\n",
        "#create a list of the categorical names for the classes in alphabetical order\n",
        "plant_classes = ['Small-flowered Cranesbill', 'Fat Hen', 'Shepherds Purse',\n",
        "       'Common wheat', 'Common Chickweed', 'Charlock', 'Cleavers',\n",
        "       'Scentless Mayweed', 'Sugar beet', 'Maize', 'Black-grass',\n",
        "       'Loose Silky-bent']\n",
        "#plant_classes = sorted(plant_classes)\n",
        "#plant_classes"
      ]
    },
    {
      "cell_type": "code",
      "execution_count": 18,
      "metadata": {
        "id": "muBKjjQJ8VK8"
      },
      "outputs": [],
      "source": [
        "# rows = 3\n",
        "# cols = 4\n",
        "# fig = plt.figure(figsize=(10,8))\n",
        "# for i in range (cols):\n",
        "#   for j in range (rows):\n",
        "#     random_index = np.random.randint(0, len(labels))\n",
        "#     ax = fig.add_subplot(rows,cols, i * rows + j + 1)\n",
        "#     ax.imshow(images[random_index, :])\n",
        "#     ax.set_title(plant_classes[labels.Label[random_index,]])\n",
        "# plt.show()"
      ]
    },
    {
      "cell_type": "markdown",
      "metadata": {
        "id": "4y2a9Q9d508x"
      },
      "source": [
        "# Data Preparation \n",
        "## 1. Data will be converted to float\n",
        "## 2. This will be followed by normalization to also reduce the size of the data. This will help reduce the training time and avoid exploding error gradient\n",
        "## 3. We encode the representation of the target labels which are text to integer using label encoder then convert the vector of integers to a onehot encoding using to_categorical()\n",
        "## The data is going to be split up into train and test data"
      ]
    },
    {
      "cell_type": "code",
      "execution_count": 19,
      "metadata": {
        "id": "oSSSKEEG6cQ5"
      },
      "outputs": [],
      "source": [
        "#convert np.array images to float and normalized by dividing by 255 as pixel values range between 0 and 255\n",
        "images_float = images.astype(\"float32\")/255.0"
      ]
    },
    {
      "cell_type": "code",
      "execution_count": 20,
      "metadata": {
        "colab": {
          "base_uri": "https://localhost:8080/"
        },
        "id": "9a9pc_J5_gPI",
        "outputId": "d64bad43-3918-4dc7-9f92-7edca1806653"
      },
      "outputs": [
        {
          "output_type": "execute_result",
          "data": {
            "text/plain": [
              "array([[[[0.13725491, 0.20392157, 0.30588236],\n",
              "         [0.14117648, 0.19215687, 0.29803923],\n",
              "         [0.12156863, 0.1764706 , 0.27058825],\n",
              "         ...,\n",
              "         [0.30588236, 0.37254903, 0.44705883],\n",
              "         [0.29803923, 0.3647059 , 0.43137255],\n",
              "         [0.3137255 , 0.37254903, 0.42745098]],\n",
              "\n",
              "        [[0.12941177, 0.18039216, 0.26666668],\n",
              "         [0.14509805, 0.19607843, 0.28627452],\n",
              "         [0.1882353 , 0.25490198, 0.3254902 ],\n",
              "         ...,\n",
              "         [0.31764707, 0.3764706 , 0.44313726],\n",
              "         [0.2901961 , 0.34901962, 0.4117647 ],\n",
              "         [0.3254902 , 0.37254903, 0.42745098]],\n",
              "\n",
              "        [[0.13333334, 0.19607843, 0.26666668],\n",
              "         [0.13725491, 0.20392157, 0.28235295],\n",
              "         [0.27450982, 0.33333334, 0.39607844],\n",
              "         ...,\n",
              "         [0.3254902 , 0.38039216, 0.4392157 ],\n",
              "         [0.30980393, 0.36862746, 0.42352942],\n",
              "         [0.30980393, 0.36862746, 0.41960785]],\n",
              "\n",
              "        ...,\n",
              "\n",
              "        [[0.13725491, 0.19607843, 0.27058825],\n",
              "         [0.16470589, 0.22352941, 0.28627452],\n",
              "         [0.16470589, 0.22352941, 0.28235295],\n",
              "         ...,\n",
              "         [0.23529412, 0.29803923, 0.36078432],\n",
              "         [0.2627451 , 0.31764707, 0.38039216],\n",
              "         [0.2509804 , 0.3019608 , 0.37254903]],\n",
              "\n",
              "        [[0.14117648, 0.20392157, 0.2627451 ],\n",
              "         [0.1882353 , 0.24705882, 0.30588236],\n",
              "         [0.16078432, 0.22352941, 0.28627452],\n",
              "         ...,\n",
              "         [0.17254902, 0.25882354, 0.3254902 ],\n",
              "         [0.22745098, 0.29803923, 0.35686275],\n",
              "         [0.22352941, 0.2901961 , 0.3529412 ]],\n",
              "\n",
              "        [[0.17254902, 0.22745098, 0.27450982],\n",
              "         [0.16862746, 0.22352941, 0.28627452],\n",
              "         [0.15686275, 0.21568628, 0.28235295],\n",
              "         ...,\n",
              "         [0.16078432, 0.27450982, 0.36078432],\n",
              "         [0.21568628, 0.30588236, 0.38039216],\n",
              "         [0.23921569, 0.30980393, 0.3764706 ]]],\n",
              "\n",
              "\n",
              "       [[[0.11764706, 0.18431373, 0.24705882],\n",
              "         [0.11764706, 0.19607843, 0.23529412],\n",
              "         [0.13333334, 0.18431373, 0.24705882],\n",
              "         ...,\n",
              "         [0.1882353 , 0.23137255, 0.2901961 ],\n",
              "         [0.16470589, 0.21176471, 0.27058825],\n",
              "         [0.17254902, 0.21960784, 0.27450982]],\n",
              "\n",
              "        [[0.11764706, 0.19215687, 0.2627451 ],\n",
              "         [0.10196079, 0.18431373, 0.23529412],\n",
              "         [0.11764706, 0.15686275, 0.23921569],\n",
              "         ...,\n",
              "         [0.19607843, 0.2509804 , 0.29803923],\n",
              "         [0.20392157, 0.2627451 , 0.30588236],\n",
              "         [0.1764706 , 0.21960784, 0.28235295]],\n",
              "\n",
              "        [[0.09019608, 0.18039216, 0.25490198],\n",
              "         [0.10588235, 0.1882353 , 0.2509804 ],\n",
              "         [0.09803922, 0.15686275, 0.23137255],\n",
              "         ...,\n",
              "         [0.15294118, 0.23137255, 0.31764707],\n",
              "         [0.18431373, 0.24313726, 0.30980393],\n",
              "         [0.16470589, 0.21176471, 0.27058825]],\n",
              "\n",
              "        ...,\n",
              "\n",
              "        [[0.1254902 , 0.21176471, 0.28235295],\n",
              "         [0.22745098, 0.32156864, 0.37254903],\n",
              "         [0.28235295, 0.3764706 , 0.42745098],\n",
              "         ...,\n",
              "         [0.23529412, 0.3137255 , 0.3882353 ],\n",
              "         [0.19607843, 0.28235295, 0.36078432],\n",
              "         [0.1764706 , 0.2509804 , 0.32941177]],\n",
              "\n",
              "        [[0.12156863, 0.2       , 0.2627451 ],\n",
              "         [0.09803922, 0.19607843, 0.2509804 ],\n",
              "         [0.14901961, 0.2509804 , 0.3137255 ],\n",
              "         ...,\n",
              "         [0.24705882, 0.3254902 , 0.39607844],\n",
              "         [0.22352941, 0.30588236, 0.3764706 ],\n",
              "         [0.19607843, 0.27058825, 0.34901962]],\n",
              "\n",
              "        [[0.07058824, 0.1254902 , 0.21960784],\n",
              "         [0.0627451 , 0.10588235, 0.19607843],\n",
              "         [0.13333334, 0.19215687, 0.2784314 ],\n",
              "         ...,\n",
              "         [0.23137255, 0.32941177, 0.39607844],\n",
              "         [0.21568628, 0.3137255 , 0.38039216],\n",
              "         [0.15294118, 0.23137255, 0.32156864]]],\n",
              "\n",
              "\n",
              "       [[[0.6039216 , 0.58431375, 0.5647059 ],\n",
              "         [0.63529414, 0.6117647 , 0.59607846],\n",
              "         [0.6313726 , 0.6039216 , 0.5921569 ],\n",
              "         ...,\n",
              "         [0.6862745 , 0.7058824 , 0.7176471 ],\n",
              "         [0.69411767, 0.70980394, 0.72156864],\n",
              "         [0.6862745 , 0.7019608 , 0.7019608 ]],\n",
              "\n",
              "        [[0.6039216 , 0.5882353 , 0.5764706 ],\n",
              "         [0.63529414, 0.6117647 , 0.6039216 ],\n",
              "         [0.6039216 , 0.5764706 , 0.5686275 ],\n",
              "         ...,\n",
              "         [0.65882355, 0.6784314 , 0.7058824 ],\n",
              "         [0.67058825, 0.6862745 , 0.70980394],\n",
              "         [0.6784314 , 0.6901961 , 0.7058824 ]],\n",
              "\n",
              "        [[0.5921569 , 0.58431375, 0.58431375],\n",
              "         [0.62352943, 0.60784316, 0.6117647 ],\n",
              "         [0.61960787, 0.6039216 , 0.59607846],\n",
              "         ...,\n",
              "         [0.6784314 , 0.6901961 , 0.7058824 ],\n",
              "         [0.69803923, 0.7137255 , 0.7294118 ],\n",
              "         [0.7019608 , 0.7137255 , 0.7254902 ]],\n",
              "\n",
              "        ...,\n",
              "\n",
              "        [[0.22745098, 0.28235295, 0.3764706 ],\n",
              "         [0.27058825, 0.3254902 , 0.4117647 ],\n",
              "         [0.27058825, 0.32941177, 0.40784314],\n",
              "         ...,\n",
              "         [0.6862745 , 0.6666667 , 0.654902  ],\n",
              "         [0.6901961 , 0.6627451 , 0.654902  ],\n",
              "         [0.6901961 , 0.654902  , 0.64705884]],\n",
              "\n",
              "        [[0.2509804 , 0.29803923, 0.38431373],\n",
              "         [0.3019608 , 0.34117648, 0.42352942],\n",
              "         [0.30980393, 0.35686275, 0.42745098],\n",
              "         ...,\n",
              "         [0.69411767, 0.6745098 , 0.6666667 ],\n",
              "         [0.7019608 , 0.6784314 , 0.67058825],\n",
              "         [0.6901961 , 0.6627451 , 0.6509804 ]],\n",
              "\n",
              "        [[0.26666668, 0.3137255 , 0.3882353 ],\n",
              "         [0.30588236, 0.34901962, 0.42352942],\n",
              "         [0.30980393, 0.36078432, 0.42352942],\n",
              "         ...,\n",
              "         [0.7019608 , 0.6784314 , 0.6666667 ],\n",
              "         [0.69411767, 0.67058825, 0.6509804 ],\n",
              "         [0.69803923, 0.67058825, 0.654902  ]]],\n",
              "\n",
              "\n",
              "       ...,\n",
              "\n",
              "\n",
              "       [[[0.6392157 , 0.64705884, 0.6666667 ],\n",
              "         [0.21568628, 0.21960784, 0.2627451 ],\n",
              "         [0.22745098, 0.21960784, 0.23529412],\n",
              "         ...,\n",
              "         [0.18039216, 0.18431373, 0.22745098],\n",
              "         [0.19215687, 0.2       , 0.23529412],\n",
              "         [0.20784314, 0.21176471, 0.2509804 ]],\n",
              "\n",
              "        [[0.39607844, 0.36862746, 0.47058824],\n",
              "         [0.23529412, 0.22745098, 0.26666668],\n",
              "         [0.22352941, 0.22745098, 0.24313726],\n",
              "         ...,\n",
              "         [0.18431373, 0.1882353 , 0.22745098],\n",
              "         [0.21568628, 0.22352941, 0.25490198],\n",
              "         [0.19607843, 0.21176471, 0.2509804 ]],\n",
              "\n",
              "        [[0.2509804 , 0.21960784, 0.29803923],\n",
              "         [0.2509804 , 0.23529412, 0.2627451 ],\n",
              "         [0.21176471, 0.19607843, 0.21568628],\n",
              "         ...,\n",
              "         [0.18431373, 0.19607843, 0.23529412],\n",
              "         [0.1882353 , 0.2       , 0.24313726],\n",
              "         [0.1764706 , 0.19215687, 0.23529412]],\n",
              "\n",
              "        ...,\n",
              "\n",
              "        [[0.11764706, 0.16862746, 0.2509804 ],\n",
              "         [0.16862746, 0.23529412, 0.3372549 ],\n",
              "         [0.32156864, 0.4       , 0.49019608],\n",
              "         ...,\n",
              "         [0.16470589, 0.22745098, 0.29803923],\n",
              "         [0.17254902, 0.23137255, 0.30980393],\n",
              "         [0.1882353 , 0.2509804 , 0.31764707]],\n",
              "\n",
              "        [[0.14117648, 0.18431373, 0.24313726],\n",
              "         [0.10588235, 0.16078432, 0.2509804 ],\n",
              "         [0.16470589, 0.23137255, 0.34901962],\n",
              "         ...,\n",
              "         [0.16470589, 0.23529412, 0.29803923],\n",
              "         [0.16078432, 0.23137255, 0.3019608 ],\n",
              "         [0.16470589, 0.23529412, 0.29803923]],\n",
              "\n",
              "        [[0.11764706, 0.16078432, 0.22352941],\n",
              "         [0.10196079, 0.15686275, 0.23137255],\n",
              "         [0.11764706, 0.1764706 , 0.26666668],\n",
              "         ...,\n",
              "         [0.16078432, 0.23137255, 0.2901961 ],\n",
              "         [0.15294118, 0.23529412, 0.28627452],\n",
              "         [0.15686275, 0.22352941, 0.2901961 ]]],\n",
              "\n",
              "\n",
              "       [[[0.45490196, 0.5568628 , 0.6       ],\n",
              "         [0.41960785, 0.5372549 , 0.59607846],\n",
              "         [0.43137255, 0.5529412 , 0.6039216 ],\n",
              "         ...,\n",
              "         [0.19607843, 0.2901961 , 0.36078432],\n",
              "         [0.21568628, 0.30588236, 0.3764706 ],\n",
              "         [0.19215687, 0.27450982, 0.35686275]],\n",
              "\n",
              "        [[0.39607844, 0.5019608 , 0.5411765 ],\n",
              "         [0.37254903, 0.5019608 , 0.5686275 ],\n",
              "         [0.4509804 , 0.5686275 , 0.6039216 ],\n",
              "         ...,\n",
              "         [0.18039216, 0.27058825, 0.3372549 ],\n",
              "         [0.18431373, 0.27450982, 0.35686275],\n",
              "         [0.1882353 , 0.2784314 , 0.3529412 ]],\n",
              "\n",
              "        [[0.18431373, 0.23921569, 0.30588236],\n",
              "         [0.3019608 , 0.39215687, 0.45882353],\n",
              "         [0.39607844, 0.5176471 , 0.54901963],\n",
              "         ...,\n",
              "         [0.09803922, 0.14117648, 0.2627451 ],\n",
              "         [0.15686275, 0.23921569, 0.34117648],\n",
              "         [0.17254902, 0.2784314 , 0.34901962]],\n",
              "\n",
              "        ...,\n",
              "\n",
              "        [[0.16470589, 0.22745098, 0.30980393],\n",
              "         [0.17254902, 0.22352941, 0.3019608 ],\n",
              "         [0.15294118, 0.21176471, 0.28235295],\n",
              "         ...,\n",
              "         [0.21176471, 0.2784314 , 0.3647059 ],\n",
              "         [0.21176471, 0.2901961 , 0.3529412 ],\n",
              "         [0.16078432, 0.21960784, 0.28627452]],\n",
              "\n",
              "        [[0.14901961, 0.24705882, 0.36078432],\n",
              "         [0.13333334, 0.23529412, 0.34117648],\n",
              "         [0.15686275, 0.24313726, 0.31764707],\n",
              "         ...,\n",
              "         [0.23137255, 0.29411766, 0.36862746],\n",
              "         [0.19607843, 0.27450982, 0.34509805],\n",
              "         [0.15686275, 0.22352941, 0.28627452]],\n",
              "\n",
              "        [[0.12941177, 0.23921569, 0.3647059 ],\n",
              "         [0.12941177, 0.24313726, 0.37254903],\n",
              "         [0.16470589, 0.27450982, 0.36862746],\n",
              "         ...,\n",
              "         [0.20392157, 0.2627451 , 0.34901962],\n",
              "         [0.19215687, 0.2627451 , 0.34117648],\n",
              "         [0.13333334, 0.2       , 0.2784314 ]]],\n",
              "\n",
              "\n",
              "       [[[0.20784314, 0.25882354, 0.32941177],\n",
              "         [0.1764706 , 0.21960784, 0.2901961 ],\n",
              "         [0.20392157, 0.2627451 , 0.3372549 ],\n",
              "         ...,\n",
              "         [0.19607843, 0.2784314 , 0.37254903],\n",
              "         [0.3254902 , 0.41568628, 0.4862745 ],\n",
              "         [0.25490198, 0.3372549 , 0.44313726]],\n",
              "\n",
              "        [[0.21176471, 0.26666668, 0.34117648],\n",
              "         [0.14901961, 0.1882353 , 0.24705882],\n",
              "         [0.11372549, 0.17254902, 0.2627451 ],\n",
              "         ...,\n",
              "         [0.24705882, 0.33333334, 0.4117647 ],\n",
              "         [0.2509804 , 0.34901962, 0.4392157 ],\n",
              "         [0.2784314 , 0.37254903, 0.4509804 ]],\n",
              "\n",
              "        [[0.19215687, 0.24705882, 0.3137255 ],\n",
              "         [0.23529412, 0.3137255 , 0.40784314],\n",
              "         [0.30588236, 0.41960785, 0.49803922],\n",
              "         ...,\n",
              "         [0.16078432, 0.27450982, 0.28627452],\n",
              "         [0.16470589, 0.3019608 , 0.3137255 ],\n",
              "         [0.22352941, 0.3254902 , 0.37254903]],\n",
              "\n",
              "        ...,\n",
              "\n",
              "        [[0.19607843, 0.25490198, 0.30980393],\n",
              "         [0.19607843, 0.25490198, 0.32941177],\n",
              "         [0.21568628, 0.2901961 , 0.36862746],\n",
              "         ...,\n",
              "         [0.10980392, 0.20392157, 0.30980393],\n",
              "         [0.12156863, 0.19607843, 0.2901961 ],\n",
              "         [0.1254902 , 0.2       , 0.28235295]],\n",
              "\n",
              "        [[0.23137255, 0.29411766, 0.34901962],\n",
              "         [0.22352941, 0.2901961 , 0.35686275],\n",
              "         [0.22352941, 0.30980393, 0.3764706 ],\n",
              "         ...,\n",
              "         [0.13333334, 0.21960784, 0.30980393],\n",
              "         [0.2784314 , 0.3529412 , 0.4       ],\n",
              "         [0.28235295, 0.34901962, 0.40784314]],\n",
              "\n",
              "        [[0.26666668, 0.33333334, 0.40392157],\n",
              "         [0.25882354, 0.3137255 , 0.3764706 ],\n",
              "         [0.2627451 , 0.3372549 , 0.39215687],\n",
              "         ...,\n",
              "         [0.27450982, 0.34117648, 0.39607844],\n",
              "         [0.26666668, 0.32156864, 0.37254903],\n",
              "         [0.26666668, 0.32941177, 0.39607844]]]], dtype=float32)"
            ]
          },
          "metadata": {},
          "execution_count": 20
        }
      ],
      "source": [
        "images_float"
      ]
    },
    {
      "cell_type": "code",
      "execution_count": 21,
      "metadata": {
        "id": "FQrZW3gTziT7"
      },
      "outputs": [],
      "source": [
        "#initialise the label encoder \n",
        "le = LabelEncoder()\n"
      ]
    },
    {
      "cell_type": "code",
      "execution_count": 22,
      "metadata": {
        "id": "mrRhWWluzovm"
      },
      "outputs": [],
      "source": [
        "# apply and transform the labels to integers\n",
        "label_le = le.fit_transform(labels.Label)"
      ]
    },
    {
      "cell_type": "code",
      "execution_count": 23,
      "metadata": {
        "id": "ReSm3EfQBGNl"
      },
      "outputs": [],
      "source": [
        "# convert the vector of integers to a one-hot encoding\n",
        "Y_cat = to_categorical(label_le)"
      ]
    },
    {
      "cell_type": "code",
      "execution_count": 24,
      "metadata": {
        "colab": {
          "base_uri": "https://localhost:8080/"
        },
        "id": "oqK90lDj17hK",
        "outputId": "b8ac607c-ce74-43ed-a0e4-87e980826be8"
      },
      "outputs": [
        {
          "output_type": "execute_result",
          "data": {
            "text/plain": [
              "numpy.ndarray"
            ]
          },
          "metadata": {},
          "execution_count": 24
        }
      ],
      "source": [
        "type(label_le)"
      ]
    },
    {
      "cell_type": "code",
      "execution_count": 25,
      "metadata": {
        "colab": {
          "base_uri": "https://localhost:8080/"
        },
        "id": "_d3vtoA12A9W",
        "outputId": "ed71810b-0433-42e8-86eb-3aac738418ce"
      },
      "outputs": [
        {
          "output_type": "execute_result",
          "data": {
            "text/plain": [
              "numpy.ndarray"
            ]
          },
          "metadata": {},
          "execution_count": 25
        }
      ],
      "source": [
        "type(Y_cat)"
      ]
    },
    {
      "cell_type": "code",
      "execution_count": 26,
      "metadata": {
        "id": "klFzwBFO5uKW"
      },
      "outputs": [],
      "source": [
        "# next we shuffle and split the data\n",
        "train_images,test_images, train_labels,test_labels = train_test_split(images_float,Y_cat, shuffle=True, test_size = 0.2, random_state= 0)"
      ]
    },
    {
      "cell_type": "code",
      "execution_count": 27,
      "metadata": {
        "colab": {
          "base_uri": "https://localhost:8080/"
        },
        "id": "OhUFMbw690fJ",
        "outputId": "5b4a2b02-988a-4da9-c91a-6f9513d60599"
      },
      "outputs": [
        {
          "output_type": "execute_result",
          "data": {
            "text/plain": [
              "(3800, 128, 128, 3)"
            ]
          },
          "metadata": {},
          "execution_count": 27
        }
      ],
      "source": [
        "train_images.shape"
      ]
    },
    {
      "cell_type": "code",
      "execution_count": 28,
      "metadata": {
        "colab": {
          "base_uri": "https://localhost:8080/"
        },
        "id": "57hJE82v94D3",
        "outputId": "16ca024e-2232-47d2-d770-019fff975869"
      },
      "outputs": [
        {
          "output_type": "execute_result",
          "data": {
            "text/plain": [
              "(950, 128, 128, 3)"
            ]
          },
          "metadata": {},
          "execution_count": 28
        }
      ],
      "source": [
        "test_images.shape"
      ]
    },
    {
      "cell_type": "code",
      "execution_count": 29,
      "metadata": {
        "colab": {
          "base_uri": "https://localhost:8080/"
        },
        "id": "prhnVXxH97Fq",
        "outputId": "866d5d84-c9fb-4b04-f952-aa7d4df45f2c"
      },
      "outputs": [
        {
          "output_type": "execute_result",
          "data": {
            "text/plain": [
              "(3800, 12)"
            ]
          },
          "metadata": {},
          "execution_count": 29
        }
      ],
      "source": [
        "train_labels.shape"
      ]
    },
    {
      "cell_type": "code",
      "execution_count": 30,
      "metadata": {
        "colab": {
          "base_uri": "https://localhost:8080/"
        },
        "id": "y39fuPDV-O3S",
        "outputId": "c14683de-e4b8-4f60-bde5-e53cfcde3767"
      },
      "outputs": [
        {
          "output_type": "execute_result",
          "data": {
            "text/plain": [
              "(950, 12)"
            ]
          },
          "metadata": {},
          "execution_count": 30
        }
      ],
      "source": [
        "test_labels.shape"
      ]
    },
    {
      "cell_type": "markdown",
      "metadata": {
        "id": "w_6RhUe89_Mp"
      },
      "source": [
        "# Model Building\n",
        "\n",
        "## Model 1\n",
        "#####. 1 We first set the seed for reproducibility. We set the same seed in numpy, python and Tensor flow"
      ]
    },
    {
      "cell_type": "code",
      "execution_count": 31,
      "metadata": {
        "id": "Q2hReaD9-TN6"
      },
      "outputs": [],
      "source": [
        "np.random.seed(42) #numpy\n",
        "random.seed(42) #python\n",
        "tf.random.set_seed(42) #tensorflow"
      ]
    },
    {
      "cell_type": "code",
      "execution_count": 32,
      "metadata": {
        "id": "7H0EjE37_NSH"
      },
      "outputs": [],
      "source": [
        "# initialise model\n",
        "model = Sequential()\n",
        "\n",
        "#for the first convolutional layer, we use a filter size of 64 with a kernel size of 3x3 and same padding to make the image resolution input same as output \n",
        "model.add(Conv2D(64,(3,3),padding = 'valid', activation= 'relu', input_shape =(128,128,3))) # this gives the feature map\n",
        "\n",
        "#add max_pooling to reduce the size of the output of the convolution layer. This where the kernel is applied to the feature map\n",
        "model.add(MaxPool2D())\n",
        "\n",
        "# add batch normalization to help with vanishing gradient problem\n",
        "model.add(BatchNormalization())\n",
        "\n",
        "# add another convolutional layer\n",
        "model.add(Conv2D(32, (3,3),padding = \"same\", activation = \"relu\"))\n",
        "model.add(MaxPool2D())\n",
        "model.add(BatchNormalization())\n",
        "\n",
        "# add another convolutional layer\n",
        "model.add(Conv2D(32, (3,3),padding = \"same\", activation = \"relu\"))\n",
        "model.add(MaxPool2D())\n",
        "model.add(BatchNormalization())\n",
        "\n",
        "#flatten the output of the Convolution Layer to prepare for the Dense layer\n",
        "model.add(Flatten())\n",
        "\n",
        "# add a fully connected dense layer with 100 neurons\n",
        "model.add(Dense(100, activation = \"relu\"))\n",
        "\n",
        "# we add the final output layer \n",
        "model.add(Dense(12,activation = 'softmax'))"
      ]
    },
    {
      "cell_type": "code",
      "execution_count": 33,
      "metadata": {
        "id": "Is2qu2pHBZi6"
      },
      "outputs": [],
      "source": [
        "#compile the model using categorical_crossentropy as the loss function which is suitable for multi-class classification problems\n",
        "model.compile(optimizer = \"adam\", loss =\"categorical_crossentropy\", metrics =\"accuracy\") "
      ]
    },
    {
      "cell_type": "code",
      "execution_count": 34,
      "metadata": {
        "colab": {
          "base_uri": "https://localhost:8080/"
        },
        "id": "FGEeq4FPWQJk",
        "outputId": "77e47f85-ca67-4c94-d3c3-280881102bc2"
      },
      "outputs": [
        {
          "output_type": "stream",
          "name": "stdout",
          "text": [
            "Model: \"sequential\"\n",
            "_________________________________________________________________\n",
            " Layer (type)                Output Shape              Param #   \n",
            "=================================================================\n",
            " conv2d (Conv2D)             (None, 126, 126, 64)      1792      \n",
            "                                                                 \n",
            " max_pooling2d (MaxPooling2D  (None, 63, 63, 64)       0         \n",
            " )                                                               \n",
            "                                                                 \n",
            " batch_normalization (BatchN  (None, 63, 63, 64)       256       \n",
            " ormalization)                                                   \n",
            "                                                                 \n",
            " conv2d_1 (Conv2D)           (None, 63, 63, 32)        18464     \n",
            "                                                                 \n",
            " max_pooling2d_1 (MaxPooling  (None, 31, 31, 32)       0         \n",
            " 2D)                                                             \n",
            "                                                                 \n",
            " batch_normalization_1 (Batc  (None, 31, 31, 32)       128       \n",
            " hNormalization)                                                 \n",
            "                                                                 \n",
            " conv2d_2 (Conv2D)           (None, 31, 31, 32)        9248      \n",
            "                                                                 \n",
            " max_pooling2d_2 (MaxPooling  (None, 15, 15, 32)       0         \n",
            " 2D)                                                             \n",
            "                                                                 \n",
            " batch_normalization_2 (Batc  (None, 15, 15, 32)       128       \n",
            " hNormalization)                                                 \n",
            "                                                                 \n",
            " flatten (Flatten)           (None, 7200)              0         \n",
            "                                                                 \n",
            " dense (Dense)               (None, 100)               720100    \n",
            "                                                                 \n",
            " dense_1 (Dense)             (None, 12)                1212      \n",
            "                                                                 \n",
            "=================================================================\n",
            "Total params: 751,328\n",
            "Trainable params: 751,072\n",
            "Non-trainable params: 256\n",
            "_________________________________________________________________\n"
          ]
        }
      ],
      "source": [
        "# run the model summary to view the model parameters\n",
        "model.summary()"
      ]
    },
    {
      "cell_type": "code",
      "execution_count": 35,
      "metadata": {
        "id": "Os6mKb6gWfOh"
      },
      "outputs": [],
      "source": [
        "# from above, the model has a total of 751,328 paramenters both weights and biases"
      ]
    },
    {
      "cell_type": "code",
      "execution_count": 36,
      "metadata": {
        "colab": {
          "base_uri": "https://localhost:8080/"
        },
        "id": "GR3acMhwXiKR",
        "outputId": "d2df4fd8-ea3a-4dbc-b297-c027a913570a"
      },
      "outputs": [
        {
          "output_type": "stream",
          "name": "stdout",
          "text": [
            "Epoch 1/30\n",
            "608/608 [==============================] - 9s 10ms/step - loss: 2.0444 - accuracy: 0.4326 - val_loss: 3.1553 - val_accuracy: 0.2724\n",
            "Epoch 2/30\n",
            "608/608 [==============================] - 5s 8ms/step - loss: 0.9967 - accuracy: 0.6773 - val_loss: 4.4500 - val_accuracy: 0.2434\n",
            "Epoch 3/30\n",
            "608/608 [==============================] - 6s 10ms/step - loss: 0.5645 - accuracy: 0.8122 - val_loss: 1.9393 - val_accuracy: 0.5553\n",
            "Epoch 4/30\n",
            "608/608 [==============================] - 4s 7ms/step - loss: 0.3560 - accuracy: 0.8809 - val_loss: 10.8287 - val_accuracy: 0.2474\n",
            "Epoch 5/30\n",
            "608/608 [==============================] - 4s 6ms/step - loss: 0.2122 - accuracy: 0.9263 - val_loss: 1.4014 - val_accuracy: 0.6566\n",
            "Epoch 6/30\n",
            "608/608 [==============================] - 4s 6ms/step - loss: 0.1875 - accuracy: 0.9411 - val_loss: 1.4646 - val_accuracy: 0.6316\n",
            "Epoch 7/30\n",
            "608/608 [==============================] - 4s 6ms/step - loss: 0.2309 - accuracy: 0.9289 - val_loss: 1.4392 - val_accuracy: 0.6908\n",
            "Epoch 8/30\n",
            "608/608 [==============================] - 4s 6ms/step - loss: 0.1754 - accuracy: 0.9461 - val_loss: 1.7748 - val_accuracy: 0.6289\n",
            "Epoch 9/30\n",
            "608/608 [==============================] - 4s 6ms/step - loss: 0.1334 - accuracy: 0.9523 - val_loss: 2.6636 - val_accuracy: 0.5908\n",
            "Epoch 10/30\n",
            "608/608 [==============================] - 4s 6ms/step - loss: 0.1310 - accuracy: 0.9582 - val_loss: 1.8971 - val_accuracy: 0.6658\n",
            "Epoch 11/30\n",
            "608/608 [==============================] - 4s 6ms/step - loss: 0.0846 - accuracy: 0.9757 - val_loss: 2.2286 - val_accuracy: 0.6513\n",
            "Epoch 12/30\n",
            "608/608 [==============================] - 4s 6ms/step - loss: 0.0849 - accuracy: 0.9697 - val_loss: 2.4384 - val_accuracy: 0.6684\n",
            "Epoch 13/30\n",
            "608/608 [==============================] - 4s 6ms/step - loss: 0.0964 - accuracy: 0.9734 - val_loss: 2.9438 - val_accuracy: 0.5829\n",
            "Epoch 14/30\n",
            "608/608 [==============================] - 4s 6ms/step - loss: 0.1037 - accuracy: 0.9711 - val_loss: 1.6555 - val_accuracy: 0.6842\n",
            "Epoch 15/30\n",
            "608/608 [==============================] - 4s 6ms/step - loss: 0.1161 - accuracy: 0.9658 - val_loss: 2.1922 - val_accuracy: 0.6697\n",
            "Epoch 16/30\n",
            "608/608 [==============================] - 4s 6ms/step - loss: 0.0833 - accuracy: 0.9770 - val_loss: 2.0234 - val_accuracy: 0.6645\n",
            "Epoch 17/30\n",
            "608/608 [==============================] - 4s 6ms/step - loss: 0.0850 - accuracy: 0.9753 - val_loss: 1.8567 - val_accuracy: 0.6829\n",
            "Epoch 18/30\n",
            "608/608 [==============================] - 4s 6ms/step - loss: 0.0621 - accuracy: 0.9832 - val_loss: 2.6068 - val_accuracy: 0.6645\n",
            "Epoch 19/30\n",
            "608/608 [==============================] - 4s 6ms/step - loss: 0.0953 - accuracy: 0.9730 - val_loss: 2.4373 - val_accuracy: 0.6697\n",
            "Epoch 20/30\n",
            "608/608 [==============================] - 4s 6ms/step - loss: 0.0780 - accuracy: 0.9809 - val_loss: 2.4951 - val_accuracy: 0.5908\n",
            "Epoch 21/30\n",
            "608/608 [==============================] - 4s 6ms/step - loss: 0.0483 - accuracy: 0.9882 - val_loss: 1.9477 - val_accuracy: 0.6974\n",
            "Epoch 22/30\n",
            "608/608 [==============================] - 4s 7ms/step - loss: 0.0357 - accuracy: 0.9891 - val_loss: 2.5437 - val_accuracy: 0.6342\n",
            "Epoch 23/30\n",
            "608/608 [==============================] - 4s 6ms/step - loss: 0.0437 - accuracy: 0.9845 - val_loss: 2.1008 - val_accuracy: 0.6961\n",
            "Epoch 24/30\n",
            "608/608 [==============================] - 4s 6ms/step - loss: 0.1108 - accuracy: 0.9737 - val_loss: 1.8785 - val_accuracy: 0.6974\n",
            "Epoch 25/30\n",
            "608/608 [==============================] - 4s 6ms/step - loss: 0.0558 - accuracy: 0.9849 - val_loss: 2.0812 - val_accuracy: 0.7158\n",
            "Epoch 26/30\n",
            "608/608 [==============================] - 4s 6ms/step - loss: 0.0444 - accuracy: 0.9885 - val_loss: 2.2057 - val_accuracy: 0.6697\n",
            "Epoch 27/30\n",
            "608/608 [==============================] - 4s 6ms/step - loss: 0.0375 - accuracy: 0.9891 - val_loss: 2.4740 - val_accuracy: 0.7079\n",
            "Epoch 28/30\n",
            "608/608 [==============================] - 4s 6ms/step - loss: 0.0277 - accuracy: 0.9918 - val_loss: 2.9477 - val_accuracy: 0.6803\n",
            "Epoch 29/30\n",
            "608/608 [==============================] - 4s 6ms/step - loss: 0.0512 - accuracy: 0.9839 - val_loss: 3.1036 - val_accuracy: 0.6461\n",
            "Epoch 30/30\n",
            "608/608 [==============================] - 4s 6ms/step - loss: 0.0760 - accuracy: 0.9796 - val_loss: 4.1581 - val_accuracy: 0.6355\n"
          ]
        }
      ],
      "source": [
        "# we then train the model\n",
        "history = model.fit(train_images, train_labels, batch_size = 5, epochs = 30, validation_split= 0.2)"
      ]
    },
    {
      "cell_type": "code",
      "source": [
        "score_test = model.evaluate(test_images, test_labels)\n",
        "score_train = model.evaluate(train_images, train_labels)"
      ],
      "metadata": {
        "colab": {
          "base_uri": "https://localhost:8080/"
        },
        "id": "df3I-p__wg8y",
        "outputId": "17cf36af-7b11-4a5a-e7ba-de341e8c7140"
      },
      "execution_count": 98,
      "outputs": [
        {
          "output_type": "stream",
          "name": "stdout",
          "text": [
            "30/30 [==============================] - 0s 10ms/step - loss: 4.2519 - accuracy: 0.6232\n",
            "119/119 [==============================] - 1s 8ms/step - loss: 0.9638 - accuracy: 0.9008\n"
          ]
        }
      ]
    },
    {
      "cell_type": "code",
      "source": [
        "#the model above is overfitting with an accuracy of 99% and test accuracy of 64%\n",
        "# so we visualise the data\n",
        "acc = history.history[\"accuracy\"]\n",
        "val_acc = history.history[\"val_accuracy\"]\n",
        "\n",
        "epochs = range(1,len(acc)+1)\n",
        "plt.plot(epochs, acc,label= \"train\")\n",
        "plt.plot(epochs, val_acc,label= \"validation\")\n",
        "plt.legend()\n",
        "plt.xlabel(\"No of Epochs\")\n",
        "plt.ylabel(\"Accuracy\")\n",
        "plt.show()"
      ],
      "metadata": {
        "colab": {
          "base_uri": "https://localhost:8080/",
          "height": 279
        },
        "id": "rdvrobMMkHE8",
        "outputId": "1c0f9ef5-3fd6-411a-b734-f2b3133e2587"
      },
      "execution_count": 37,
      "outputs": [
        {
          "output_type": "display_data",
          "data": {
            "text/plain": [
              "<Figure size 432x288 with 1 Axes>"
            ],
            "image/png": "[encoded data removed]"
          },
          "metadata": {
            "needs_background": "light"
          }
        }
      ]
    },
    {
      "cell_type": "code",
      "source": [],
      "metadata": {
        "id": "GnQarsNekIya"
      },
      "execution_count": 37,
      "outputs": []
    },
    {
      "cell_type": "markdown",
      "source": [
        "## Model 2"
      ],
      "metadata": {
        "id": "iMzBKGXf0z2k"
      }
    },
    {
      "cell_type": "code",
      "source": [
        "#clear the previous model's history to remove it from the backend and prevent the accumulation of weights \n",
        "# we also set the seed again\n",
        "\n",
        "backend.clear_session()\n",
        "\n",
        "np.random.seed(42)\n",
        "random.seed(42)\n",
        "tf.random.set_seed(42)\n"
      ],
      "metadata": {
        "id": "tDzyOcFDkJyc"
      },
      "execution_count": 38,
      "outputs": []
    },
    {
      "cell_type": "code",
      "source": [
        "# we would be a more complex layer and add some drop outs in the fully connected dense layer to reduce overfitting\n",
        "\n",
        "\n",
        "# initialise model\n",
        "model2 = Sequential()\n",
        "\n",
        "#for the first convolutional layer, we use a filter size of *128* with a kernel size of 3x3 and same padding to make the image resolution input same as output \n",
        "model2.add(Conv2D(128,(3,3),padding = 'valid', activation= 'relu', input_shape =(128,128,3))) # this gives the feature map\n",
        "\n",
        "#add max_pooling to reduce the size of the output of the convolution layer. This where the kernel is applied to the feature map\n",
        "model2.add(MaxPool2D())\n",
        "\n",
        "# add batch normalization to help with vanishing gradient problem\n",
        "model2.add(BatchNormalization())\n",
        "\n",
        "# add another convolutional layer\n",
        "model2.add(Conv2D(64, (3,3),padding = \"same\", activation = \"relu\"))\n",
        "model2.add(MaxPool2D())\n",
        "model2.add(BatchNormalization())\n",
        "\n",
        "# add another convolutional layer\n",
        "model2.add(Conv2D(128, (3,3),padding = \"same\", activation = \"relu\"))\n",
        "model2.add(MaxPool2D())\n",
        "model2.add(BatchNormalization())\n",
        "\n",
        "#flatten the output of the Convolution Layer to prepare for the Dense layer\n",
        "model2.add(Flatten())\n",
        "\n",
        "# add a fully connected dense layer with 100 neurons\n",
        "model2.add(Dense(500, activation = \"relu\"))\n",
        "model2.add(Dropout(0.5))\n",
        "\n",
        "model2.add(Dense(200, activation = \"relu\"))\n",
        "model2.add(Dropout(0.25))\n",
        "# we add the final output layer \n",
        "model2.add(Dense(12,activation = 'softmax'))"
      ],
      "metadata": {
        "id": "Ho6kj1cLoHFJ"
      },
      "execution_count": 39,
      "outputs": []
    },
    {
      "cell_type": "code",
      "source": [
        "#compile the model using categorical_crossentropy as the loss function which is suitable for multi-class classification problems\n",
        "model2.compile(optimizer = \"adam\", loss =\"categorical_crossentropy\", metrics =\"accuracy\") "
      ],
      "metadata": {
        "id": "wUfExkA4sd-g"
      },
      "execution_count": 40,
      "outputs": []
    },
    {
      "cell_type": "code",
      "source": [
        "# run the model summary to view the model parameters\n",
        "model2.summary()"
      ],
      "metadata": {
        "colab": {
          "base_uri": "https://localhost:8080/"
        },
        "id": "5CSEBm6KseS7",
        "outputId": "633c026e-94e4-42d3-99cf-13af0371bc45"
      },
      "execution_count": 41,
      "outputs": [
        {
          "output_type": "stream",
          "name": "stdout",
          "text": [
            "Model: \"sequential\"\n",
            "_________________________________________________________________\n",
            " Layer (type)                Output Shape              Param #   \n",
            "=================================================================\n",
            " conv2d (Conv2D)             (None, 126, 126, 128)     3584      \n",
            "                                                                 \n",
            " max_pooling2d (MaxPooling2D  (None, 63, 63, 128)      0         \n",
            " )                                                               \n",
            "                                                                 \n",
            " batch_normalization (BatchN  (None, 63, 63, 128)      512       \n",
            " ormalization)                                                   \n",
            "                                                                 \n",
            " conv2d_1 (Conv2D)           (None, 63, 63, 64)        73792     \n",
            "                                                                 \n",
            " max_pooling2d_1 (MaxPooling  (None, 31, 31, 64)       0         \n",
            " 2D)                                                             \n",
            "                                                                 \n",
            " batch_normalization_1 (Batc  (None, 31, 31, 64)       256       \n",
            " hNormalization)                                                 \n",
            "                                                                 \n",
            " conv2d_2 (Conv2D)           (None, 31, 31, 128)       73856     \n",
            "                                                                 \n",
            " max_pooling2d_2 (MaxPooling  (None, 15, 15, 128)      0         \n",
            " 2D)                                                             \n",
            "                                                                 \n",
            " batch_normalization_2 (Batc  (None, 15, 15, 128)      512       \n",
            " hNormalization)                                                 \n",
            "                                                                 \n",
            " flatten (Flatten)           (None, 28800)             0         \n",
            "                                                                 \n",
            " dense (Dense)               (None, 500)               14400500  \n",
            "                                                                 \n",
            " dropout (Dropout)           (None, 500)               0         \n",
            "                                                                 \n",
            " dense_1 (Dense)             (None, 200)               100200    \n",
            "                                                                 \n",
            " dropout_1 (Dropout)         (None, 200)               0         \n",
            "                                                                 \n",
            " dense_2 (Dense)             (None, 12)                2412      \n",
            "                                                                 \n",
            "=================================================================\n",
            "Total params: 14,655,624\n",
            "Trainable params: 14,654,984\n",
            "Non-trainable params: 640\n",
            "_________________________________________________________________\n"
          ]
        }
      ]
    },
    {
      "cell_type": "code",
      "source": [
        "# we then train the model\n",
        "history = model2.fit(train_images, train_labels, batch_size = 128, epochs = 60, validation_split= 0.2)"
      ],
      "metadata": {
        "colab": {
          "base_uri": "https://localhost:8080/"
        },
        "id": "ds11EvHhsehW",
        "outputId": "079dd404-25ed-4b24-ce4a-a385bcdf6e2a"
      },
      "execution_count": 42,
      "outputs": [
        {
          "output_type": "stream",
          "name": "stdout",
          "text": [
            "Epoch 1/60\n",
            "24/24 [==============================] - 12s 395ms/step - loss: 3.6270 - accuracy: 0.3148 - val_loss: 2.8609 - val_accuracy: 0.0382\n",
            "Epoch 2/60\n",
            "24/24 [==============================] - 5s 191ms/step - loss: 2.1859 - accuracy: 0.4875 - val_loss: 3.6227 - val_accuracy: 0.0487\n",
            "Epoch 3/60\n",
            "24/24 [==============================] - 5s 192ms/step - loss: 1.5348 - accuracy: 0.5678 - val_loss: 4.1994 - val_accuracy: 0.0408\n",
            "Epoch 4/60\n",
            "24/24 [==============================] - 5s 192ms/step - loss: 1.2079 - accuracy: 0.6326 - val_loss: 6.8072 - val_accuracy: 0.1145\n",
            "Epoch 5/60\n",
            "24/24 [==============================] - 5s 191ms/step - loss: 1.0382 - accuracy: 0.6895 - val_loss: 6.5112 - val_accuracy: 0.0382\n",
            "Epoch 6/60\n",
            "24/24 [==============================] - 5s 192ms/step - loss: 0.7147 - accuracy: 0.7615 - val_loss: 6.7124 - val_accuracy: 0.1211\n",
            "Epoch 7/60\n",
            "24/24 [==============================] - 5s 192ms/step - loss: 0.6158 - accuracy: 0.7964 - val_loss: 8.0205 - val_accuracy: 0.1474\n",
            "Epoch 8/60\n",
            "24/24 [==============================] - 5s 194ms/step - loss: 0.5304 - accuracy: 0.8217 - val_loss: 12.4969 - val_accuracy: 0.1237\n",
            "Epoch 9/60\n",
            "24/24 [==============================] - 5s 202ms/step - loss: 0.4645 - accuracy: 0.8431 - val_loss: 12.2535 - val_accuracy: 0.1474\n",
            "Epoch 10/60\n",
            "24/24 [==============================] - 5s 202ms/step - loss: 0.4239 - accuracy: 0.8582 - val_loss: 13.5140 - val_accuracy: 0.1487\n",
            "Epoch 11/60\n",
            "24/24 [==============================] - 5s 194ms/step - loss: 0.3352 - accuracy: 0.8859 - val_loss: 20.1541 - val_accuracy: 0.1474\n",
            "Epoch 12/60\n",
            "24/24 [==============================] - 5s 191ms/step - loss: 0.2867 - accuracy: 0.9039 - val_loss: 18.7888 - val_accuracy: 0.1474\n",
            "Epoch 13/60\n",
            "24/24 [==============================] - 5s 190ms/step - loss: 0.2254 - accuracy: 0.9289 - val_loss: 13.1545 - val_accuracy: 0.1447\n",
            "Epoch 14/60\n",
            "24/24 [==============================] - 5s 191ms/step - loss: 0.2369 - accuracy: 0.9263 - val_loss: 11.7816 - val_accuracy: 0.0645\n",
            "Epoch 15/60\n",
            "24/24 [==============================] - 5s 190ms/step - loss: 0.2319 - accuracy: 0.9296 - val_loss: 18.4014 - val_accuracy: 0.1474\n",
            "Epoch 16/60\n",
            "24/24 [==============================] - 5s 190ms/step - loss: 0.2011 - accuracy: 0.9349 - val_loss: 14.0983 - val_accuracy: 0.1487\n",
            "Epoch 17/60\n",
            "24/24 [==============================] - 5s 191ms/step - loss: 0.2060 - accuracy: 0.9385 - val_loss: 7.8172 - val_accuracy: 0.1671\n",
            "Epoch 18/60\n",
            "24/24 [==============================] - 5s 191ms/step - loss: 0.1797 - accuracy: 0.9451 - val_loss: 10.9565 - val_accuracy: 0.1539\n",
            "Epoch 19/60\n",
            "24/24 [==============================] - 5s 191ms/step - loss: 0.1603 - accuracy: 0.9513 - val_loss: 14.3979 - val_accuracy: 0.1645\n",
            "Epoch 20/60\n",
            "24/24 [==============================] - 5s 191ms/step - loss: 0.1065 - accuracy: 0.9638 - val_loss: 10.2050 - val_accuracy: 0.2250\n",
            "Epoch 21/60\n",
            "24/24 [==============================] - 5s 191ms/step - loss: 0.1242 - accuracy: 0.9589 - val_loss: 5.9915 - val_accuracy: 0.2671\n",
            "Epoch 22/60\n",
            "24/24 [==============================] - 5s 192ms/step - loss: 0.1066 - accuracy: 0.9641 - val_loss: 8.8539 - val_accuracy: 0.2526\n",
            "Epoch 23/60\n",
            "24/24 [==============================] - 5s 192ms/step - loss: 0.1213 - accuracy: 0.9671 - val_loss: 5.8181 - val_accuracy: 0.3553\n",
            "Epoch 24/60\n",
            "24/24 [==============================] - 5s 191ms/step - loss: 0.1241 - accuracy: 0.9618 - val_loss: 2.8005 - val_accuracy: 0.5303\n",
            "Epoch 25/60\n",
            "24/24 [==============================] - 5s 197ms/step - loss: 0.1040 - accuracy: 0.9678 - val_loss: 2.5676 - val_accuracy: 0.5737\n",
            "Epoch 26/60\n",
            "24/24 [==============================] - 5s 191ms/step - loss: 0.0950 - accuracy: 0.9697 - val_loss: 1.7405 - val_accuracy: 0.6395\n",
            "Epoch 27/60\n",
            "24/24 [==============================] - 5s 191ms/step - loss: 0.1071 - accuracy: 0.9694 - val_loss: 1.2806 - val_accuracy: 0.7158\n",
            "Epoch 28/60\n",
            "24/24 [==============================] - 5s 192ms/step - loss: 0.0973 - accuracy: 0.9701 - val_loss: 1.6637 - val_accuracy: 0.6934\n",
            "Epoch 29/60\n",
            "24/24 [==============================] - 5s 191ms/step - loss: 0.1214 - accuracy: 0.9638 - val_loss: 1.6974 - val_accuracy: 0.6750\n",
            "Epoch 30/60\n",
            "24/24 [==============================] - 5s 191ms/step - loss: 0.1097 - accuracy: 0.9694 - val_loss: 2.8063 - val_accuracy: 0.5816\n",
            "Epoch 31/60\n",
            "24/24 [==============================] - 5s 190ms/step - loss: 0.1203 - accuracy: 0.9658 - val_loss: 1.7894 - val_accuracy: 0.6882\n",
            "Epoch 32/60\n",
            "24/24 [==============================] - 5s 191ms/step - loss: 0.1070 - accuracy: 0.9704 - val_loss: 1.1300 - val_accuracy: 0.7750\n",
            "Epoch 33/60\n",
            "24/24 [==============================] - 5s 191ms/step - loss: 0.1148 - accuracy: 0.9674 - val_loss: 1.4679 - val_accuracy: 0.7224\n",
            "Epoch 34/60\n",
            "24/24 [==============================] - 5s 190ms/step - loss: 0.0783 - accuracy: 0.9780 - val_loss: 1.0611 - val_accuracy: 0.7789\n",
            "Epoch 35/60\n",
            "24/24 [==============================] - 5s 190ms/step - loss: 0.0835 - accuracy: 0.9747 - val_loss: 0.9282 - val_accuracy: 0.7987\n",
            "Epoch 36/60\n",
            "24/24 [==============================] - 5s 191ms/step - loss: 0.0815 - accuracy: 0.9747 - val_loss: 1.1790 - val_accuracy: 0.7763\n",
            "Epoch 37/60\n",
            "24/24 [==============================] - 5s 191ms/step - loss: 0.0647 - accuracy: 0.9799 - val_loss: 1.2819 - val_accuracy: 0.7737\n",
            "Epoch 38/60\n",
            "24/24 [==============================] - 5s 191ms/step - loss: 0.0805 - accuracy: 0.9786 - val_loss: 1.1240 - val_accuracy: 0.7605\n",
            "Epoch 39/60\n",
            "24/24 [==============================] - 5s 191ms/step - loss: 0.0959 - accuracy: 0.9763 - val_loss: 1.7355 - val_accuracy: 0.6921\n",
            "Epoch 40/60\n",
            "24/24 [==============================] - 5s 190ms/step - loss: 0.0952 - accuracy: 0.9707 - val_loss: 1.7500 - val_accuracy: 0.7105\n",
            "Epoch 41/60\n",
            "24/24 [==============================] - 5s 190ms/step - loss: 0.0628 - accuracy: 0.9826 - val_loss: 1.4152 - val_accuracy: 0.7250\n",
            "Epoch 42/60\n",
            "24/24 [==============================] - 5s 191ms/step - loss: 0.1064 - accuracy: 0.9757 - val_loss: 3.1599 - val_accuracy: 0.6026\n",
            "Epoch 43/60\n",
            "24/24 [==============================] - 5s 191ms/step - loss: 0.0903 - accuracy: 0.9806 - val_loss: 1.5083 - val_accuracy: 0.6974\n",
            "Epoch 44/60\n",
            "24/24 [==============================] - 5s 192ms/step - loss: 0.0814 - accuracy: 0.9796 - val_loss: 1.1186 - val_accuracy: 0.7921\n",
            "Epoch 45/60\n",
            "24/24 [==============================] - 5s 190ms/step - loss: 0.0470 - accuracy: 0.9859 - val_loss: 1.7521 - val_accuracy: 0.7289\n",
            "Epoch 46/60\n",
            "24/24 [==============================] - 5s 191ms/step - loss: 0.0612 - accuracy: 0.9812 - val_loss: 1.6869 - val_accuracy: 0.7250\n",
            "Epoch 47/60\n",
            "24/24 [==============================] - 5s 191ms/step - loss: 0.0635 - accuracy: 0.9806 - val_loss: 0.9502 - val_accuracy: 0.8000\n",
            "Epoch 48/60\n",
            "24/24 [==============================] - 5s 190ms/step - loss: 0.0550 - accuracy: 0.9859 - val_loss: 12.9975 - val_accuracy: 0.2263\n",
            "Epoch 49/60\n",
            "24/24 [==============================] - 5s 190ms/step - loss: 0.0650 - accuracy: 0.9819 - val_loss: 1.9071 - val_accuracy: 0.6658\n",
            "Epoch 50/60\n",
            "24/24 [==============================] - 5s 195ms/step - loss: 0.0582 - accuracy: 0.9836 - val_loss: 1.1762 - val_accuracy: 0.7618\n",
            "Epoch 51/60\n",
            "24/24 [==============================] - 5s 192ms/step - loss: 0.0559 - accuracy: 0.9836 - val_loss: 1.3250 - val_accuracy: 0.7592\n",
            "Epoch 52/60\n",
            "24/24 [==============================] - 5s 191ms/step - loss: 0.0618 - accuracy: 0.9822 - val_loss: 1.3614 - val_accuracy: 0.7579\n",
            "Epoch 53/60\n",
            "24/24 [==============================] - 5s 190ms/step - loss: 0.0641 - accuracy: 0.9806 - val_loss: 1.8213 - val_accuracy: 0.7000\n",
            "Epoch 54/60\n",
            "24/24 [==============================] - 5s 190ms/step - loss: 0.0546 - accuracy: 0.9822 - val_loss: 3.2444 - val_accuracy: 0.6539\n",
            "Epoch 55/60\n",
            "24/24 [==============================] - 5s 190ms/step - loss: 0.0647 - accuracy: 0.9832 - val_loss: 1.6918 - val_accuracy: 0.7487\n",
            "Epoch 56/60\n",
            "24/24 [==============================] - 5s 191ms/step - loss: 0.0646 - accuracy: 0.9829 - val_loss: 2.1156 - val_accuracy: 0.7000\n",
            "Epoch 57/60\n",
            "24/24 [==============================] - 5s 191ms/step - loss: 0.0845 - accuracy: 0.9793 - val_loss: 2.6496 - val_accuracy: 0.6816\n",
            "Epoch 58/60\n",
            "24/24 [==============================] - 5s 190ms/step - loss: 0.0678 - accuracy: 0.9796 - val_loss: 2.5414 - val_accuracy: 0.7066\n",
            "Epoch 59/60\n",
            "24/24 [==============================] - 5s 190ms/step - loss: 0.0659 - accuracy: 0.9836 - val_loss: 2.3806 - val_accuracy: 0.7171\n",
            "Epoch 60/60\n",
            "24/24 [==============================] - 5s 190ms/step - loss: 0.0551 - accuracy: 0.9845 - val_loss: 3.2390 - val_accuracy: 0.6211\n"
          ]
        }
      ]
    },
    {
      "cell_type": "code",
      "source": [
        "score2_test = model2.evaluate(test_images, test_labels)\n",
        "score2_train = model2.evaluate(train_images, train_labels)"
      ],
      "metadata": {
        "colab": {
          "base_uri": "https://localhost:8080/"
        },
        "id": "pQYQ-5cHxDrX",
        "outputId": "b7227d50-0265-4926-ff4d-926a1dbc399f"
      },
      "execution_count": 96,
      "outputs": [
        {
          "output_type": "stream",
          "name": "stdout",
          "text": [
            "30/30 [==============================] - 1s 15ms/step - loss: 1.7953 - accuracy: 0.7579\n",
            "119/119 [==============================] - 2s 16ms/step - loss: 0.3586 - accuracy: 0.9503\n"
          ]
        }
      ]
    },
    {
      "cell_type": "code",
      "source": [
        "#the model above is overfitting with an accuracy of 99% and test accuracy of 64%\n",
        "# so we visualise the data\n",
        "acc = history.history[\"accuracy\"]\n",
        "val_acc = history.history[\"val_accuracy\"]\n",
        "\n",
        "epochs = range(1,len(acc)+1)\n",
        "plt.plot(epochs, acc,label= \"train\")\n",
        "plt.plot(epochs, val_acc,label= \"validation\")\n",
        "plt.legend()\n",
        "plt.xlabel(\"No of Epochs\")\n",
        "plt.ylabel(\"Accuracy\")\n",
        "plt.show()"
      ],
      "metadata": {
        "colab": {
          "base_uri": "https://localhost:8080/",
          "height": 279
        },
        "id": "-qfB9A8tsuw3",
        "outputId": "f7f95ae6-dba3-41d8-f6ef-923c5a369643"
      },
      "execution_count": 43,
      "outputs": [
        {
          "output_type": "display_data",
          "data": {
            "text/plain": [
              "<Figure size 432x288 with 1 Axes>"
            ],
            "image/png": "[encoded data removed]"
          },
          "metadata": {
            "needs_background": "light"
          }
        }
      ]
    },
    {
      "cell_type": "code",
      "source": [],
      "metadata": {
        "id": "MomCZ1sasvAW"
      },
      "execution_count": 43,
      "outputs": []
    },
    {
      "cell_type": "code",
      "source": [],
      "metadata": {
        "id": "iOjXuReasvQN"
      },
      "execution_count": 43,
      "outputs": []
    },
    {
      "cell_type": "code",
      "source": [],
      "metadata": {
        "id": "AuvfbEgW1d5v"
      },
      "execution_count": 43,
      "outputs": []
    },
    {
      "cell_type": "markdown",
      "source": [
        "## MOdel 3"
      ],
      "metadata": {
        "id": "f6bKDJHW06N5"
      }
    },
    {
      "cell_type": "code",
      "source": [
        "#clear the previous model's history to remove it from the backend and prevent the accumulation of weights \n",
        "# we also set the seed again\n",
        "\n",
        "backend.clear_session()\n",
        "\n",
        "np.random.seed(42)\n",
        "random.seed(42)\n",
        "tf.random.set_seed(42)"
      ],
      "metadata": {
        "id": "Sj-Tvj2b1eF8"
      },
      "execution_count": 64,
      "outputs": []
    },
    {
      "cell_type": "code",
      "source": [
        "# initialise model\n",
        "model3 = Sequential()\n",
        "\n",
        "#for the first convolutional layer, we use a filter size of 64 with a kernel size of 3x3 and same padding to make the image resolution input same as output \n",
        "model3.add(Conv2D(64,(3,3),padding = 'valid', activation= 'relu', input_shape =(128,128,3))) # this gives the feature map\n",
        "\n",
        "#add max_pooling to reduce the size of the output of the convolution layer. This where the kernel is applied to the feature map\n",
        "model3.add(MaxPool2D())\n",
        "\n",
        "# add batch normalization to help with vanishing gradient problem\n",
        "model3.add(BatchNormalization())\n",
        "\n",
        "# add another convolutional layer\n",
        "model3.add(Conv2D(32, (3,3),padding = \"same\", activation = \"relu\"))\n",
        "model3.add(MaxPool2D())\n",
        "model3.add(BatchNormalization())\n",
        "\n",
        "# add another convolutional layer\n",
        "model3.add(Conv2D(32, (3,3),padding = \"same\", activation = \"relu\"))\n",
        "model3.add(MaxPool2D())\n",
        "model3.add(BatchNormalization())\n",
        "\n",
        "#flatten the output of the Convolution Layer to prepare for the Dense layer\n",
        "model3.add(Flatten())\n",
        "\n",
        "# add a fully connected dense layer with 100 neurons\n",
        "model3.add(Dense(100, activation = \"relu\"))\n",
        "model3.add(Dropout(0.2))\n",
        "# we add the final output layer \n",
        "model3.add(Dense(12,activation = 'softmax'))"
      ],
      "metadata": {
        "id": "1OYVxStv1eIx"
      },
      "execution_count": 65,
      "outputs": []
    },
    {
      "cell_type": "code",
      "source": [
        "#compile the model using categorical_crossentropy as the loss function which is suitable for multi-class classification problems\n",
        "model3.compile(optimizer = \"adam\", loss =\"categorical_crossentropy\", metrics =\"accuracy\") "
      ],
      "metadata": {
        "id": "nfJ7_eVk1eLm"
      },
      "execution_count": 66,
      "outputs": []
    },
    {
      "cell_type": "code",
      "source": [
        "# run the model summary to view the model parameters\n",
        "model3.summary()"
      ],
      "metadata": {
        "id": "24iN5MRp1eOQ",
        "colab": {
          "base_uri": "https://localhost:8080/"
        },
        "outputId": "88527e26-9732-483f-d9b1-1fd15ca734ff"
      },
      "execution_count": 67,
      "outputs": [
        {
          "output_type": "stream",
          "name": "stdout",
          "text": [
            "Model: \"sequential\"\n",
            "_________________________________________________________________\n",
            " Layer (type)                Output Shape              Param #   \n",
            "=================================================================\n",
            " conv2d (Conv2D)             (None, 126, 126, 64)      1792      \n",
            "                                                                 \n",
            " max_pooling2d (MaxPooling2D  (None, 63, 63, 64)       0         \n",
            " )                                                               \n",
            "                                                                 \n",
            " batch_normalization (BatchN  (None, 63, 63, 64)       256       \n",
            " ormalization)                                                   \n",
            "                                                                 \n",
            " conv2d_1 (Conv2D)           (None, 63, 63, 32)        18464     \n",
            "                                                                 \n",
            " max_pooling2d_1 (MaxPooling  (None, 31, 31, 32)       0         \n",
            " 2D)                                                             \n",
            "                                                                 \n",
            " batch_normalization_1 (Batc  (None, 31, 31, 32)       128       \n",
            " hNormalization)                                                 \n",
            "                                                                 \n",
            " conv2d_2 (Conv2D)           (None, 31, 31, 32)        9248      \n",
            "                                                                 \n",
            " max_pooling2d_2 (MaxPooling  (None, 15, 15, 32)       0         \n",
            " 2D)                                                             \n",
            "                                                                 \n",
            " batch_normalization_2 (Batc  (None, 15, 15, 32)       128       \n",
            " hNormalization)                                                 \n",
            "                                                                 \n",
            " flatten (Flatten)           (None, 7200)              0         \n",
            "                                                                 \n",
            " dense (Dense)               (None, 100)               720100    \n",
            "                                                                 \n",
            " dropout (Dropout)           (None, 100)               0         \n",
            "                                                                 \n",
            " dense_1 (Dense)             (None, 12)                1212      \n",
            "                                                                 \n",
            "=================================================================\n",
            "Total params: 751,328\n",
            "Trainable params: 751,072\n",
            "Non-trainable params: 256\n",
            "_________________________________________________________________\n"
          ]
        }
      ]
    },
    {
      "cell_type": "code",
      "source": [
        "# we then train the model\n",
        "history3= model3.fit(train_images, train_labels, batch_size = 64, epochs = 30, validation_split= 0.2)"
      ],
      "metadata": {
        "id": "psHzdp8h1eQ7",
        "colab": {
          "base_uri": "https://localhost:8080/"
        },
        "outputId": "e26cc7ff-e7db-4b10-b4f4-4b037677f0e7"
      },
      "execution_count": 68,
      "outputs": [
        {
          "output_type": "stream",
          "name": "stdout",
          "text": [
            "Epoch 1/30\n",
            "48/48 [==============================] - 3s 53ms/step - loss: 1.9726 - accuracy: 0.4181 - val_loss: 3.1498 - val_accuracy: 0.0395\n",
            "Epoch 2/30\n",
            "48/48 [==============================] - 2s 47ms/step - loss: 0.7754 - accuracy: 0.7516 - val_loss: 4.4983 - val_accuracy: 0.1368\n",
            "Epoch 3/30\n",
            "48/48 [==============================] - 2s 47ms/step - loss: 0.3599 - accuracy: 0.8799 - val_loss: 6.7885 - val_accuracy: 0.0421\n",
            "Epoch 4/30\n",
            "48/48 [==============================] - 2s 47ms/step - loss: 0.2065 - accuracy: 0.9322 - val_loss: 7.4953 - val_accuracy: 0.0737\n",
            "Epoch 5/30\n",
            "48/48 [==============================] - 2s 47ms/step - loss: 0.1277 - accuracy: 0.9602 - val_loss: 5.9150 - val_accuracy: 0.1487\n",
            "Epoch 6/30\n",
            "48/48 [==============================] - 3s 53ms/step - loss: 0.0848 - accuracy: 0.9730 - val_loss: 6.8936 - val_accuracy: 0.1566\n",
            "Epoch 7/30\n",
            "48/48 [==============================] - 2s 47ms/step - loss: 0.0506 - accuracy: 0.9868 - val_loss: 6.1321 - val_accuracy: 0.1289\n",
            "Epoch 8/30\n",
            "48/48 [==============================] - 2s 47ms/step - loss: 0.0622 - accuracy: 0.9803 - val_loss: 5.7071 - val_accuracy: 0.2079\n",
            "Epoch 9/30\n",
            "48/48 [==============================] - 2s 48ms/step - loss: 0.0368 - accuracy: 0.9901 - val_loss: 4.9769 - val_accuracy: 0.2026\n",
            "Epoch 10/30\n",
            "48/48 [==============================] - 2s 48ms/step - loss: 0.0258 - accuracy: 0.9944 - val_loss: 4.0168 - val_accuracy: 0.3316\n",
            "Epoch 11/30\n",
            "48/48 [==============================] - 2s 47ms/step - loss: 0.0422 - accuracy: 0.9868 - val_loss: 3.0788 - val_accuracy: 0.4395\n",
            "Epoch 12/30\n",
            "48/48 [==============================] - 2s 47ms/step - loss: 0.0402 - accuracy: 0.9882 - val_loss: 2.0081 - val_accuracy: 0.5684\n",
            "Epoch 13/30\n",
            "48/48 [==============================] - 2s 47ms/step - loss: 0.0339 - accuracy: 0.9888 - val_loss: 2.2873 - val_accuracy: 0.5724\n",
            "Epoch 14/30\n",
            "48/48 [==============================] - 2s 47ms/step - loss: 0.0348 - accuracy: 0.9905 - val_loss: 1.0274 - val_accuracy: 0.7513\n",
            "Epoch 15/30\n",
            "48/48 [==============================] - 2s 47ms/step - loss: 0.0420 - accuracy: 0.9885 - val_loss: 1.7591 - val_accuracy: 0.6224\n",
            "Epoch 16/30\n",
            "48/48 [==============================] - 2s 47ms/step - loss: 0.0478 - accuracy: 0.9859 - val_loss: 1.7988 - val_accuracy: 0.6737\n",
            "Epoch 17/30\n",
            "48/48 [==============================] - 2s 47ms/step - loss: 0.0502 - accuracy: 0.9832 - val_loss: 2.6992 - val_accuracy: 0.5434\n",
            "Epoch 18/30\n",
            "48/48 [==============================] - 2s 47ms/step - loss: 0.0404 - accuracy: 0.9875 - val_loss: 1.2213 - val_accuracy: 0.7184\n",
            "Epoch 19/30\n",
            "48/48 [==============================] - 2s 47ms/step - loss: 0.0404 - accuracy: 0.9875 - val_loss: 1.1745 - val_accuracy: 0.7539\n",
            "Epoch 20/30\n",
            "48/48 [==============================] - 2s 47ms/step - loss: 0.0255 - accuracy: 0.9928 - val_loss: 1.9085 - val_accuracy: 0.6763\n",
            "Epoch 21/30\n",
            "48/48 [==============================] - 2s 47ms/step - loss: 0.0272 - accuracy: 0.9924 - val_loss: 1.6322 - val_accuracy: 0.6868\n",
            "Epoch 22/30\n",
            "48/48 [==============================] - 2s 47ms/step - loss: 0.0240 - accuracy: 0.9921 - val_loss: 2.4800 - val_accuracy: 0.6211\n",
            "Epoch 23/30\n",
            "48/48 [==============================] - 2s 48ms/step - loss: 0.0208 - accuracy: 0.9944 - val_loss: 1.3210 - val_accuracy: 0.7395\n",
            "Epoch 24/30\n",
            "48/48 [==============================] - 2s 47ms/step - loss: 0.0285 - accuracy: 0.9901 - val_loss: 2.7973 - val_accuracy: 0.5921\n",
            "Epoch 25/30\n",
            "48/48 [==============================] - 2s 47ms/step - loss: 0.0225 - accuracy: 0.9947 - val_loss: 1.2595 - val_accuracy: 0.7618\n",
            "Epoch 26/30\n",
            "48/48 [==============================] - 2s 47ms/step - loss: 0.0231 - accuracy: 0.9924 - val_loss: 4.9841 - val_accuracy: 0.4645\n",
            "Epoch 27/30\n",
            "48/48 [==============================] - 2s 47ms/step - loss: 0.0410 - accuracy: 0.9878 - val_loss: 1.8881 - val_accuracy: 0.6539\n",
            "Epoch 28/30\n",
            "48/48 [==============================] - 2s 47ms/step - loss: 0.0466 - accuracy: 0.9839 - val_loss: 2.9525 - val_accuracy: 0.6026\n",
            "Epoch 29/30\n",
            "48/48 [==============================] - 2s 47ms/step - loss: 0.0468 - accuracy: 0.9845 - val_loss: 6.5640 - val_accuracy: 0.4408\n",
            "Epoch 30/30\n",
            "48/48 [==============================] - 2s 47ms/step - loss: 0.0447 - accuracy: 0.9826 - val_loss: 6.4535 - val_accuracy: 0.4566\n"
          ]
        }
      ]
    },
    {
      "cell_type": "code",
      "source": [
        "score3 = model3.evaluate(test_images, test_labels)\n",
        "score3_train = model3.evaluate(train_images, train_labels)"
      ],
      "metadata": {
        "colab": {
          "base_uri": "https://localhost:8080/"
        },
        "id": "GM6s-87oxcwJ",
        "outputId": "0a86f3ab-0592-4087-e274-aa13d60217b0"
      },
      "execution_count": 97,
      "outputs": [
        {
          "output_type": "stream",
          "name": "stdout",
          "text": [
            "30/30 [==============================] - 0s 9ms/step - loss: 6.7010 - accuracy: 0.4621\n",
            "119/119 [==============================] - 2s 10ms/step - loss: 3.1141 - accuracy: 0.6571\n"
          ]
        }
      ]
    },
    {
      "cell_type": "code",
      "source": [
        "#the model above is overfitting with an accuracy of 99% and test accuracy of 64%\n",
        "# so we visualise the data\n",
        "acc = history3.history[\"accuracy\"]\n",
        "val_acc = history3.history[\"val_accuracy\"]\n",
        "\n",
        "epochs = range(1,len(acc)+1)\n",
        "plt.plot(epochs, acc,label= \"train\")\n",
        "plt.plot(epochs, val_acc,label= \"validation\")\n",
        "plt.legend()\n",
        "plt.xlabel(\"No of Epochs\")\n",
        "plt.ylabel(\"Accuracy\")\n",
        "plt.title(\"Model 3\")\n",
        "plt.show()"
      ],
      "metadata": {
        "id": "z2XmjiQw1eT4",
        "colab": {
          "base_uri": "https://localhost:8080/",
          "height": 295
        },
        "outputId": "36b6213c-1dd0-4aed-dc6c-9db6d1e72b5e"
      },
      "execution_count": 70,
      "outputs": [
        {
          "output_type": "display_data",
          "data": {
            "text/plain": [
              "<Figure size 432x288 with 1 Axes>"
            ],
            "image/png": "[encoded data removed]"
          },
          "metadata": {
            "needs_background": "light"
          }
        }
      ]
    },
    {
      "cell_type": "code",
      "source": [],
      "metadata": {
        "id": "FQPzIrTz1eWl"
      },
      "execution_count": 50,
      "outputs": []
    },
    {
      "cell_type": "markdown",
      "source": [
        "## Model 4"
      ],
      "metadata": {
        "id": "-Xu5g4f81DBV"
      }
    },
    {
      "cell_type": "code",
      "source": [
        "#clear the previous model's history to remove it from the backend and prevent the accumulation of weights \n",
        "# we also set the seed again\n",
        "\n",
        "backend.clear_session()\n",
        "\n",
        "np.random.seed(42)\n",
        "random.seed(42)\n",
        "tf.random.set_seed(42)"
      ],
      "metadata": {
        "id": "OojmRZlp1eaC"
      },
      "execution_count": 88,
      "outputs": []
    },
    {
      "cell_type": "code",
      "execution_count": 89,
      "metadata": {
        "id": "ps7JaaNmZ75A"
      },
      "outputs": [],
      "source": [
        "# initialise model\n",
        "model4 = Sequential()\n",
        "model4.add(Dense(16, input_shape = (128,128,3), activation = 'relu'))\n",
        "\n",
        "#for the first convolutional layer, we use a filter size of *128* with a kernel size of 3x3 and same padding to make the image resolution input same as output \n",
        "model4.add(Conv2D(32,(3,3),padding = 'valid', activation= 'relu')) # this gives the feature map\n",
        "\n",
        "#add max_pooling to reduce the size of the output of the convolution layer. This where the kernel is applied to the feature map\n",
        "model4.add(MaxPool2D())\n",
        "\n",
        "# add batch normalization to help with vanishing gradient problem\n",
        "model4.add(BatchNormalization())\n",
        "\n",
        "# add another convolutional layer\n",
        "model4.add(Conv2D(64, (3,3),padding = \"same\", activation = \"relu\"))\n",
        "model4.add(MaxPool2D())\n",
        "model4.add(BatchNormalization())\n",
        "\n",
        "# add another convolutional layer\n",
        "# model4.add(Conv2D(128, (3,3),padding = \"same\", activation = \"relu\"))\n",
        "# model4.add(MaxPool2D())\n",
        "# model4.add(BatchNormalization())\n",
        "\n",
        "#flatten the output of the Convolution Layer to prepare for the Dense layer\n",
        "model4.add(Flatten())\n",
        "\n",
        "# add a fully connected dense layer with 100 neurons\n",
        "model4.add(Dense(500, activation = \"relu\"))\n",
        "model4.add(Dropout(0.5))\n",
        "\n",
        "model4.add(Dense(200, activation = \"relu\"))\n",
        "model4.add(Dropout(0.25))\n",
        "# we add the final output layer \n",
        "model4.add(Dense(12,activation = 'softmax'))"
      ]
    },
    {
      "cell_type": "code",
      "execution_count": 90,
      "metadata": {
        "id": "qsOjBQ5Iab5t"
      },
      "outputs": [],
      "source": [
        "#compile the model using categorical_crossentropy as the loss function which is suitable for multi-class classification problems\n",
        "model4.compile(Adam(learning_rate=0.0001), loss = \"categorical_crossentropy\", metrics =\"accuracy\") "
      ]
    },
    {
      "cell_type": "code",
      "execution_count": 91,
      "metadata": {
        "id": "-yxozbn-akDE",
        "colab": {
          "base_uri": "https://localhost:8080/"
        },
        "outputId": "8571882c-3723-4794-c74e-00ad1c702929"
      },
      "outputs": [
        {
          "output_type": "stream",
          "name": "stdout",
          "text": [
            "Model: \"sequential\"\n",
            "_________________________________________________________________\n",
            " Layer (type)                Output Shape              Param #   \n",
            "=================================================================\n",
            " dense (Dense)               (None, 128, 128, 16)      64        \n",
            "                                                                 \n",
            " conv2d (Conv2D)             (None, 126, 126, 32)      4640      \n",
            "                                                                 \n",
            " max_pooling2d (MaxPooling2D  (None, 63, 63, 32)       0         \n",
            " )                                                               \n",
            "                                                                 \n",
            " batch_normalization (BatchN  (None, 63, 63, 32)       128       \n",
            " ormalization)                                                   \n",
            "                                                                 \n",
            " conv2d_1 (Conv2D)           (None, 63, 63, 64)        18496     \n",
            "                                                                 \n",
            " max_pooling2d_1 (MaxPooling  (None, 31, 31, 64)       0         \n",
            " 2D)                                                             \n",
            "                                                                 \n",
            " batch_normalization_1 (Batc  (None, 31, 31, 64)       256       \n",
            " hNormalization)                                                 \n",
            "                                                                 \n",
            " flatten (Flatten)           (None, 61504)             0         \n",
            "                                                                 \n",
            " dense_1 (Dense)             (None, 500)               30752500  \n",
            "                                                                 \n",
            " dropout (Dropout)           (None, 500)               0         \n",
            "                                                                 \n",
            " dense_2 (Dense)             (None, 200)               100200    \n",
            "                                                                 \n",
            " dropout_1 (Dropout)         (None, 200)               0         \n",
            "                                                                 \n",
            " dense_3 (Dense)             (None, 12)                2412      \n",
            "                                                                 \n",
            "=================================================================\n",
            "Total params: 30,878,696\n",
            "Trainable params: 30,878,504\n",
            "Non-trainable params: 192\n",
            "_________________________________________________________________\n"
          ]
        }
      ],
      "source": [
        "# run the model summary to view the model parameters\n",
        "model4.summary()"
      ]
    },
    {
      "cell_type": "code",
      "source": [
        "es = EarlyStopping(monitor = 'val_loss', patience = 5)"
      ],
      "metadata": {
        "id": "92i52gSE8-TT"
      },
      "execution_count": 92,
      "outputs": []
    },
    {
      "cell_type": "code",
      "source": [
        "# we then train the model\n",
        "history4= model4.fit(train_images, train_labels, batch_size = 64, epochs = 30, validation_split= 0.3)"
      ],
      "metadata": {
        "colab": {
          "base_uri": "https://localhost:8080/"
        },
        "id": "J6LUnwe35wEq",
        "outputId": "84e59679-c62c-4880-a89f-3464f6b49c06"
      },
      "execution_count": 93,
      "outputs": [
        {
          "output_type": "stream",
          "name": "stdout",
          "text": [
            "Epoch 1/30\n",
            "42/42 [==============================] - 4s 72ms/step - loss: 3.1456 - accuracy: 0.2827 - val_loss: 2.4852 - val_accuracy: 0.1395\n",
            "Epoch 2/30\n",
            "42/42 [==============================] - 3s 63ms/step - loss: 1.6463 - accuracy: 0.5568 - val_loss: 2.9540 - val_accuracy: 0.1395\n",
            "Epoch 3/30\n",
            "42/42 [==============================] - 3s 60ms/step - loss: 1.1625 - accuracy: 0.6583 - val_loss: 3.7060 - val_accuracy: 0.1395\n",
            "Epoch 4/30\n",
            "42/42 [==============================] - 3s 61ms/step - loss: 0.8378 - accuracy: 0.7414 - val_loss: 4.4945 - val_accuracy: 0.1395\n",
            "Epoch 5/30\n",
            "42/42 [==============================] - 3s 60ms/step - loss: 0.6396 - accuracy: 0.8004 - val_loss: 4.9547 - val_accuracy: 0.1395\n",
            "Epoch 6/30\n",
            "42/42 [==============================] - 3s 60ms/step - loss: 0.4495 - accuracy: 0.8474 - val_loss: 4.9810 - val_accuracy: 0.1807\n",
            "Epoch 7/30\n",
            "42/42 [==============================] - 3s 61ms/step - loss: 0.3630 - accuracy: 0.8898 - val_loss: 7.4103 - val_accuracy: 0.1395\n",
            "Epoch 8/30\n",
            "42/42 [==============================] - 3s 60ms/step - loss: 0.3154 - accuracy: 0.8944 - val_loss: 8.9094 - val_accuracy: 0.1395\n",
            "Epoch 9/30\n",
            "42/42 [==============================] - 3s 60ms/step - loss: 0.2380 - accuracy: 0.9229 - val_loss: 8.2096 - val_accuracy: 0.1412\n",
            "Epoch 10/30\n",
            "42/42 [==============================] - 3s 61ms/step - loss: 0.1998 - accuracy: 0.9312 - val_loss: 7.2384 - val_accuracy: 0.1605\n",
            "Epoch 11/30\n",
            "42/42 [==============================] - 3s 61ms/step - loss: 0.1634 - accuracy: 0.9485 - val_loss: 5.6586 - val_accuracy: 0.1772\n",
            "Epoch 12/30\n",
            "42/42 [==============================] - 3s 64ms/step - loss: 0.1432 - accuracy: 0.9489 - val_loss: 6.3383 - val_accuracy: 0.1684\n",
            "Epoch 13/30\n",
            "42/42 [==============================] - 3s 62ms/step - loss: 0.1422 - accuracy: 0.9556 - val_loss: 2.9502 - val_accuracy: 0.3211\n",
            "Epoch 14/30\n",
            "42/42 [==============================] - 3s 61ms/step - loss: 0.1157 - accuracy: 0.9654 - val_loss: 2.7350 - val_accuracy: 0.3833\n",
            "Epoch 15/30\n",
            "42/42 [==============================] - 3s 61ms/step - loss: 0.0999 - accuracy: 0.9692 - val_loss: 2.1394 - val_accuracy: 0.4544\n",
            "Epoch 16/30\n",
            "42/42 [==============================] - 3s 61ms/step - loss: 0.0918 - accuracy: 0.9737 - val_loss: 1.3370 - val_accuracy: 0.6175\n",
            "Epoch 17/30\n",
            "42/42 [==============================] - 3s 64ms/step - loss: 0.0989 - accuracy: 0.9632 - val_loss: 1.2930 - val_accuracy: 0.6518\n",
            "Epoch 18/30\n",
            "42/42 [==============================] - 3s 62ms/step - loss: 0.0903 - accuracy: 0.9718 - val_loss: 1.7419 - val_accuracy: 0.5877\n",
            "Epoch 19/30\n",
            "42/42 [==============================] - 3s 61ms/step - loss: 0.0811 - accuracy: 0.9759 - val_loss: 1.0849 - val_accuracy: 0.7044\n",
            "Epoch 20/30\n",
            "42/42 [==============================] - 3s 61ms/step - loss: 0.0788 - accuracy: 0.9763 - val_loss: 1.1990 - val_accuracy: 0.6895\n",
            "Epoch 21/30\n",
            "42/42 [==============================] - 3s 61ms/step - loss: 0.0806 - accuracy: 0.9748 - val_loss: 1.5981 - val_accuracy: 0.6482\n",
            "Epoch 22/30\n",
            "42/42 [==============================] - 3s 61ms/step - loss: 0.0694 - accuracy: 0.9789 - val_loss: 1.2986 - val_accuracy: 0.6807\n",
            "Epoch 23/30\n",
            "42/42 [==============================] - 3s 61ms/step - loss: 0.0680 - accuracy: 0.9771 - val_loss: 1.3976 - val_accuracy: 0.6746\n",
            "Epoch 24/30\n",
            "42/42 [==============================] - 3s 61ms/step - loss: 0.0586 - accuracy: 0.9808 - val_loss: 1.4515 - val_accuracy: 0.6702\n",
            "Epoch 25/30\n",
            "42/42 [==============================] - 3s 61ms/step - loss: 0.0620 - accuracy: 0.9805 - val_loss: 1.2912 - val_accuracy: 0.7009\n",
            "Epoch 26/30\n",
            "42/42 [==============================] - 3s 60ms/step - loss: 0.0444 - accuracy: 0.9868 - val_loss: 1.2116 - val_accuracy: 0.7123\n",
            "Epoch 27/30\n",
            "42/42 [==============================] - 3s 61ms/step - loss: 0.0524 - accuracy: 0.9831 - val_loss: 1.8148 - val_accuracy: 0.6202\n",
            "Epoch 28/30\n",
            "42/42 [==============================] - 3s 61ms/step - loss: 0.0401 - accuracy: 0.9865 - val_loss: 1.3093 - val_accuracy: 0.6982\n",
            "Epoch 29/30\n",
            "42/42 [==============================] - 3s 61ms/step - loss: 0.0422 - accuracy: 0.9846 - val_loss: 1.4473 - val_accuracy: 0.6877\n",
            "Epoch 30/30\n",
            "42/42 [==============================] - 3s 61ms/step - loss: 0.0508 - accuracy: 0.9891 - val_loss: 1.4658 - val_accuracy: 0.6728\n"
          ]
        }
      ]
    },
    {
      "cell_type": "code",
      "source": [
        "score4_test = model4.evaluate(test_images, test_labels)\n",
        "score4_train = model4.evaluate(train_images, train_labels)"
      ],
      "metadata": {
        "colab": {
          "base_uri": "https://localhost:8080/"
        },
        "id": "2Mt0zxMh5b86",
        "outputId": "034ff8d0-4deb-4ab3-d909-97ff623d43ea"
      },
      "execution_count": 94,
      "outputs": [
        {
          "output_type": "stream",
          "name": "stdout",
          "text": [
            "30/30 [==============================] - 0s 10ms/step - loss: 1.4741 - accuracy: 0.6779\n",
            "119/119 [==============================] - 1s 10ms/step - loss: 0.4405 - accuracy: 0.9018\n"
          ]
        }
      ]
    },
    {
      "cell_type": "code",
      "source": [
        "#the model above is overfitting with an accuracy of 99% and test accuracy of 64%\n",
        "# so we visualise the data\n",
        "acc = history4.history[\"accuracy\"]\n",
        "val_acc = history3.history[\"val_accuracy\"]\n",
        "\n",
        "epochs = range(1,len(acc)+1)\n",
        "plt.plot(epochs, acc,label= \"train\")\n",
        "plt.plot(epochs, val_acc,label= \"validation\")\n",
        "plt.legend()\n",
        "plt.xlabel(\"No of Epochs\")\n",
        "plt.ylabel(\"Accuracy\")\n",
        "plt.title(\"Model 4\")\n",
        "plt.show()"
      ],
      "metadata": {
        "colab": {
          "base_uri": "https://localhost:8080/",
          "height": 295
        },
        "id": "0ttEV1NE5cMU",
        "outputId": "160b98d0-4479-4317-c5bf-7071b59285af"
      },
      "execution_count": 95,
      "outputs": [
        {
          "output_type": "display_data",
          "data": {
            "text/plain": [
              "<Figure size 432x288 with 1 Axes>"
            ],
            "image/png": "[encoded data removed]"
          },
          "metadata": {
            "needs_background": "light"
          }
        }
      ]
    },
    {
      "cell_type": "code",
      "source": [],
      "metadata": {
        "id": "sBX2YyPk5cSd"
      },
      "execution_count": null,
      "outputs": []
    },
    {
      "cell_type": "code",
      "source": [],
      "metadata": {
        "id": "q0EbfA2l5cZk"
      },
      "execution_count": null,
      "outputs": []
    },
    {
      "cell_type": "code",
      "source": [],
      "metadata": {
        "id": "-ChED7-K5ciO"
      },
      "execution_count": null,
      "outputs": []
    },
    {
      "cell_type": "code",
      "source": [],
      "metadata": {
        "id": "iUlOlMDE5cqk"
      },
      "execution_count": null,
      "outputs": []
    }
  ],
  "metadata": {
    "accelerator": "GPU",
    "colab": {
      "provenance": []
    },
    "gpuClass": "standard",
    "kernelspec": {
      "display_name": "Python 3",
      "name": "python3"
    },
    "language_info": {
      "name": "python"
    }
  },
  "nbformat": 4,
  "nbformat_minor": 0
}